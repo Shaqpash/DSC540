{
 "cells": [
  {
   "cell_type": "code",
   "execution_count": 1,
   "id": "16a2210f-678d-4950-9987-5efc406ee2e9",
   "metadata": {},
   "outputs": [],
   "source": [
    "#Spashtunyar\n",
    "#DSC540\n",
    "#project milestone2"
   ]
  },
  {
   "cell_type": "code",
   "execution_count": 2,
   "id": "8def6dbe-3a3c-433e-aff2-1dd6b1bebc0d",
   "metadata": {},
   "outputs": [],
   "source": [
    "#First step is getting the data into datatables\n",
    "import requests as r\n",
    "import pandas as pd\n",
    "import xlrd\n",
    "from bs4 import BeautifulSoup\n",
    "import numpy as np\n",
    "import matplotlib.pyplot as plt"
   ]
  },
  {
   "cell_type": "code",
   "execution_count": 3,
   "id": "428b11ea-dd55-4f16-b3dd-ca05a4af1a37",
   "metadata": {},
   "outputs": [],
   "source": [
    "url1 = \"https://en.wikipedia.org/wiki/List_of_largest_meteorites_on_Earth#Stony-Iron\"\n",
    "page = r.get(url1)"
   ]
  },
  {
   "cell_type": "code",
   "execution_count": 4,
   "id": "b9d2bc77-96bf-4ba3-8519-b53361ee762b",
   "metadata": {},
   "outputs": [],
   "source": [
    "soup = BeautifulSoup(page.content,'html.parser')"
   ]
  },
  {
   "cell_type": "code",
   "execution_count": 5,
   "id": "98162880-e9dc-4b9b-9088-d7330c7ac0a1",
   "metadata": {},
   "outputs": [],
   "source": [
    "tables = soup.find('table', class_='wikitable')"
   ]
  },
  {
   "cell_type": "code",
   "execution_count": 6,
   "id": "4f56950c-648e-41f0-a6cc-9f91879d566a",
   "metadata": {},
   "outputs": [
    {
     "data": {
      "text/html": [
       "<div>\n",
       "<style scoped>\n",
       "    .dataframe tbody tr th:only-of-type {\n",
       "        vertical-align: middle;\n",
       "    }\n",
       "\n",
       "    .dataframe tbody tr th {\n",
       "        vertical-align: top;\n",
       "    }\n",
       "\n",
       "    .dataframe thead th {\n",
       "        text-align: right;\n",
       "    }\n",
       "</style>\n",
       "<table border=\"1\" class=\"dataframe\">\n",
       "  <thead>\n",
       "    <tr style=\"text-align: right;\">\n",
       "      <th></th>\n",
       "      <th>N°</th>\n",
       "      <th>Meteorite name</th>\n",
       "      <th>Found year</th>\n",
       "      <th>Region/Country</th>\n",
       "      <th>Coordinates</th>\n",
       "      <th>Group</th>\n",
       "      <th>Classification</th>\n",
       "      <th>Mass</th>\n",
       "      <th>Image</th>\n",
       "    </tr>\n",
       "  </thead>\n",
       "  <tbody>\n",
       "    <tr>\n",
       "      <th>0</th>\n",
       "      <td>1</td>\n",
       "      <td>Hoba</td>\n",
       "      <td>1920</td>\n",
       "      <td>Grootfontein, Namibia</td>\n",
       "      <td>.mw-parser-output .geo-default,.mw-parser-outp...</td>\n",
       "      <td>Ataxite</td>\n",
       "      <td>IVB</td>\n",
       "      <td>60,000 kg (130,000 lb)</td>\n",
       "      <td>NaN</td>\n",
       "    </tr>\n",
       "    <tr>\n",
       "      <th>1</th>\n",
       "      <td>2</td>\n",
       "      <td>Cape York(Ahnighito)</td>\n",
       "      <td>1894</td>\n",
       "      <td>Meteorite Island, Greenland</td>\n",
       "      <td>76°08′N 64°56′W﻿ / ﻿76.133°N 64.933°W</td>\n",
       "      <td>Octahedrite</td>\n",
       "      <td>IIIAB</td>\n",
       "      <td>30,875 kg (68,068 lb)</td>\n",
       "      <td>NaN</td>\n",
       "    </tr>\n",
       "    <tr>\n",
       "      <th>2</th>\n",
       "      <td>3</td>\n",
       "      <td>Campo del Cielo(Gancedo)[3]</td>\n",
       "      <td>2016</td>\n",
       "      <td>Chaco, Argentina</td>\n",
       "      <td>27°37′48″S 61°42′00″W﻿ / ﻿27.63000°S 61.70000°W</td>\n",
       "      <td>Octahedrite</td>\n",
       "      <td>IAB</td>\n",
       "      <td>30,800 kg (67,900 lb)</td>\n",
       "      <td>NaN</td>\n",
       "    </tr>\n",
       "    <tr>\n",
       "      <th>3</th>\n",
       "      <td>4</td>\n",
       "      <td>Campo del Cielo(El Chaco)</td>\n",
       "      <td>1969</td>\n",
       "      <td>Chaco, Argentina</td>\n",
       "      <td>27°36′34.94″S 61°40′53.31″W﻿ / ﻿27.6097056°S 6...</td>\n",
       "      <td>Octahedrite</td>\n",
       "      <td>IAB</td>\n",
       "      <td>28,840 kg (63,580 lb)</td>\n",
       "      <td>NaN</td>\n",
       "    </tr>\n",
       "    <tr>\n",
       "      <th>4</th>\n",
       "      <td>5</td>\n",
       "      <td>Armanty</td>\n",
       "      <td>1898</td>\n",
       "      <td>Xinjiang, China</td>\n",
       "      <td>47°N 88°E﻿ / ﻿47°N 88°E</td>\n",
       "      <td>Octahedrite</td>\n",
       "      <td>IIIE</td>\n",
       "      <td>28,000 kg (62,000 lb)</td>\n",
       "      <td>NaN</td>\n",
       "    </tr>\n",
       "    <tr>\n",
       "      <th>5</th>\n",
       "      <td>6</td>\n",
       "      <td>Bacubirito</td>\n",
       "      <td>1863</td>\n",
       "      <td>Sinaloa, Mexico</td>\n",
       "      <td>26°12′N 107°50′W﻿ / ﻿26.200°N 107.833°W</td>\n",
       "      <td>Octahedrite</td>\n",
       "      <td>UNG</td>\n",
       "      <td>22,000 kg (49,000 lb)</td>\n",
       "      <td>NaN</td>\n",
       "    </tr>\n",
       "    <tr>\n",
       "      <th>6</th>\n",
       "      <td>7</td>\n",
       "      <td>Cape York(Agpalilik)</td>\n",
       "      <td>1963</td>\n",
       "      <td>Nordgronland, Greenland</td>\n",
       "      <td>76°07′59.88″N 64°55′59.88″W﻿ / ﻿76.1333000°N 6...</td>\n",
       "      <td>Octahedrite</td>\n",
       "      <td>IIIAB</td>\n",
       "      <td>20,100 kg (44,300 lb)</td>\n",
       "      <td>NaN</td>\n",
       "    </tr>\n",
       "    <tr>\n",
       "      <th>7</th>\n",
       "      <td>8</td>\n",
       "      <td>Mbozi</td>\n",
       "      <td>1930</td>\n",
       "      <td>Mbeya, Tanzania</td>\n",
       "      <td>09°07′N 33°04′E﻿ / ﻿9.117°N 33.067°E</td>\n",
       "      <td>Octahedrite</td>\n",
       "      <td>UNG</td>\n",
       "      <td>16,000 kg (35,000 lb)</td>\n",
       "      <td>NaN</td>\n",
       "    </tr>\n",
       "    <tr>\n",
       "      <th>8</th>\n",
       "      <td>9</td>\n",
       "      <td>Willamette</td>\n",
       "      <td>1902</td>\n",
       "      <td>Oregon, United States</td>\n",
       "      <td>45°22′00.12″N 122°34′58.8″W﻿ / ﻿45.3667000°N 1...</td>\n",
       "      <td>Octahedrite</td>\n",
       "      <td>IIIAB</td>\n",
       "      <td>14,150 kg (31,200 lb)</td>\n",
       "      <td>NaN</td>\n",
       "    </tr>\n",
       "    <tr>\n",
       "      <th>9</th>\n",
       "      <td>10</td>\n",
       "      <td>Chupaderos I</td>\n",
       "      <td>1852</td>\n",
       "      <td>Chihuahua, Mexico</td>\n",
       "      <td>27°00′N 105°06′W﻿ / ﻿27.000°N 105.100°W</td>\n",
       "      <td>Octahedrite</td>\n",
       "      <td>IIIAB</td>\n",
       "      <td>14,114 kg (31,116 lb)</td>\n",
       "      <td>NaN</td>\n",
       "    </tr>\n",
       "    <tr>\n",
       "      <th>10</th>\n",
       "      <td>11</td>\n",
       "      <td>Mundrabilla I</td>\n",
       "      <td>1911</td>\n",
       "      <td>Western Australia, Australia</td>\n",
       "      <td>30°46′59.88″S 127°33′00″E﻿ / ﻿30.7833000°S 127...</td>\n",
       "      <td>Octahedrite</td>\n",
       "      <td>IAB</td>\n",
       "      <td>12,400 kg (27,300 lb)</td>\n",
       "      <td>NaN</td>\n",
       "    </tr>\n",
       "    <tr>\n",
       "      <th>11</th>\n",
       "      <td>12</td>\n",
       "      <td>Morito</td>\n",
       "      <td>1600</td>\n",
       "      <td>Chihuahua, Mexico</td>\n",
       "      <td>27°03′N 105°26′W﻿ / ﻿27.050°N 105.433°W</td>\n",
       "      <td>Octahedrite</td>\n",
       "      <td>IIIAB</td>\n",
       "      <td>10,100 kg (22,300 lb)</td>\n",
       "      <td>NaN</td>\n",
       "    </tr>\n",
       "    <tr>\n",
       "      <th>12</th>\n",
       "      <td>13</td>\n",
       "      <td>Santa Catharina</td>\n",
       "      <td>1875</td>\n",
       "      <td>Santa Catarina, Brazil</td>\n",
       "      <td>26°13′S 48°36′W﻿ / ﻿26.217°S 48.600°W</td>\n",
       "      <td>Ataxite</td>\n",
       "      <td>IAB</td>\n",
       "      <td>7,000 kg (15,000 lb)</td>\n",
       "      <td>NaN</td>\n",
       "    </tr>\n",
       "    <tr>\n",
       "      <th>13</th>\n",
       "      <td>14</td>\n",
       "      <td>Chupaderos II</td>\n",
       "      <td>1852</td>\n",
       "      <td>Chihuahua, Mexico</td>\n",
       "      <td>27°00′N 105°06′W﻿ / ﻿27.000°N 105.100°W</td>\n",
       "      <td>Octahedrite</td>\n",
       "      <td>IIIAB</td>\n",
       "      <td>6,770 kg (14,930 lb)</td>\n",
       "      <td>NaN</td>\n",
       "    </tr>\n",
       "    <tr>\n",
       "      <th>14</th>\n",
       "      <td>15</td>\n",
       "      <td>Mundrabilla II</td>\n",
       "      <td>1911</td>\n",
       "      <td>Western Australia, Australia</td>\n",
       "      <td>30°47′S 127°33′E﻿ / ﻿30.783°S 127.550°E</td>\n",
       "      <td>Octahedrite</td>\n",
       "      <td>IAB</td>\n",
       "      <td>6,100 kg (13,400 lb)</td>\n",
       "      <td>NaN</td>\n",
       "    </tr>\n",
       "    <tr>\n",
       "      <th>15</th>\n",
       "      <td>16</td>\n",
       "      <td>Bendegó</td>\n",
       "      <td>1784</td>\n",
       "      <td>Bahia, Brazil</td>\n",
       "      <td>10°07′01″S 39°15′41″W﻿ / ﻿10.11694°S 39.26139°W</td>\n",
       "      <td>Octahedrite</td>\n",
       "      <td>IC</td>\n",
       "      <td>5,260 kg (11,600 lb)</td>\n",
       "      <td>NaN</td>\n",
       "    </tr>\n",
       "  </tbody>\n",
       "</table>\n",
       "</div>"
      ],
      "text/plain": [
       "    N°               Meteorite name  Found year                Region/Country  \\\n",
       "0    1                         Hoba        1920         Grootfontein, Namibia   \n",
       "1    2         Cape York(Ahnighito)        1894   Meteorite Island, Greenland   \n",
       "2    3  Campo del Cielo(Gancedo)[3]        2016              Chaco, Argentina   \n",
       "3    4    Campo del Cielo(El Chaco)        1969              Chaco, Argentina   \n",
       "4    5                      Armanty        1898               Xinjiang, China   \n",
       "5    6                   Bacubirito        1863               Sinaloa, Mexico   \n",
       "6    7         Cape York(Agpalilik)        1963       Nordgronland, Greenland   \n",
       "7    8                        Mbozi        1930               Mbeya, Tanzania   \n",
       "8    9                   Willamette        1902         Oregon, United States   \n",
       "9   10                 Chupaderos I        1852             Chihuahua, Mexico   \n",
       "10  11                Mundrabilla I        1911  Western Australia, Australia   \n",
       "11  12                       Morito        1600             Chihuahua, Mexico   \n",
       "12  13              Santa Catharina        1875        Santa Catarina, Brazil   \n",
       "13  14                Chupaderos II        1852             Chihuahua, Mexico   \n",
       "14  15               Mundrabilla II        1911  Western Australia, Australia   \n",
       "15  16                      Bendegó        1784                 Bahia, Brazil   \n",
       "\n",
       "                                          Coordinates        Group  \\\n",
       "0   .mw-parser-output .geo-default,.mw-parser-outp...      Ataxite   \n",
       "1               76°08′N 64°56′W﻿ / ﻿76.133°N 64.933°W  Octahedrite   \n",
       "2     27°37′48″S 61°42′00″W﻿ / ﻿27.63000°S 61.70000°W  Octahedrite   \n",
       "3   27°36′34.94″S 61°40′53.31″W﻿ / ﻿27.6097056°S 6...  Octahedrite   \n",
       "4                             47°N 88°E﻿ / ﻿47°N 88°E  Octahedrite   \n",
       "5             26°12′N 107°50′W﻿ / ﻿26.200°N 107.833°W  Octahedrite   \n",
       "6   76°07′59.88″N 64°55′59.88″W﻿ / ﻿76.1333000°N 6...  Octahedrite   \n",
       "7                09°07′N 33°04′E﻿ / ﻿9.117°N 33.067°E  Octahedrite   \n",
       "8   45°22′00.12″N 122°34′58.8″W﻿ / ﻿45.3667000°N 1...  Octahedrite   \n",
       "9             27°00′N 105°06′W﻿ / ﻿27.000°N 105.100°W  Octahedrite   \n",
       "10  30°46′59.88″S 127°33′00″E﻿ / ﻿30.7833000°S 127...  Octahedrite   \n",
       "11            27°03′N 105°26′W﻿ / ﻿27.050°N 105.433°W  Octahedrite   \n",
       "12              26°13′S 48°36′W﻿ / ﻿26.217°S 48.600°W      Ataxite   \n",
       "13            27°00′N 105°06′W﻿ / ﻿27.000°N 105.100°W  Octahedrite   \n",
       "14            30°47′S 127°33′E﻿ / ﻿30.783°S 127.550°E  Octahedrite   \n",
       "15    10°07′01″S 39°15′41″W﻿ / ﻿10.11694°S 39.26139°W  Octahedrite   \n",
       "\n",
       "   Classification                    Mass  Image  \n",
       "0             IVB  60,000 kg (130,000 lb)    NaN  \n",
       "1           IIIAB   30,875 kg (68,068 lb)    NaN  \n",
       "2             IAB   30,800 kg (67,900 lb)    NaN  \n",
       "3             IAB   28,840 kg (63,580 lb)    NaN  \n",
       "4            IIIE   28,000 kg (62,000 lb)    NaN  \n",
       "5             UNG   22,000 kg (49,000 lb)    NaN  \n",
       "6           IIIAB   20,100 kg (44,300 lb)    NaN  \n",
       "7             UNG   16,000 kg (35,000 lb)    NaN  \n",
       "8           IIIAB   14,150 kg (31,200 lb)    NaN  \n",
       "9           IIIAB   14,114 kg (31,116 lb)    NaN  \n",
       "10            IAB   12,400 kg (27,300 lb)    NaN  \n",
       "11          IIIAB   10,100 kg (22,300 lb)    NaN  \n",
       "12            IAB    7,000 kg (15,000 lb)    NaN  \n",
       "13          IIIAB    6,770 kg (14,930 lb)    NaN  \n",
       "14            IAB    6,100 kg (13,400 lb)    NaN  \n",
       "15             IC    5,260 kg (11,600 lb)    NaN  "
      ]
     },
     "execution_count": 6,
     "metadata": {},
     "output_type": "execute_result"
    }
   ],
   "source": [
    "df = pd.read_html(str(tables))\n",
    "LargeMeteor =  df[0]\n",
    "LargeMeteor"
   ]
  },
  {
   "cell_type": "code",
   "execution_count": 7,
   "id": "49bc324c-ba7c-4957-be6d-efaf92278070",
   "metadata": {},
   "outputs": [],
   "source": [
    "#CSV File\n",
    "Landings = pd.read_csv(r'meteorite-landings.csv')"
   ]
  },
  {
   "cell_type": "code",
   "execution_count": 8,
   "id": "a4e3ae95-bf08-4c70-844c-b4069ee5f8d7",
   "metadata": {},
   "outputs": [
    {
     "data": {
      "text/html": [
       "<div>\n",
       "<style scoped>\n",
       "    .dataframe tbody tr th:only-of-type {\n",
       "        vertical-align: middle;\n",
       "    }\n",
       "\n",
       "    .dataframe tbody tr th {\n",
       "        vertical-align: top;\n",
       "    }\n",
       "\n",
       "    .dataframe thead th {\n",
       "        text-align: right;\n",
       "    }\n",
       "</style>\n",
       "<table border=\"1\" class=\"dataframe\">\n",
       "  <thead>\n",
       "    <tr style=\"text-align: right;\">\n",
       "      <th></th>\n",
       "      <th>name</th>\n",
       "      <th>id</th>\n",
       "      <th>nametype</th>\n",
       "      <th>recclass</th>\n",
       "      <th>mass</th>\n",
       "      <th>fall</th>\n",
       "      <th>year</th>\n",
       "      <th>reclat</th>\n",
       "      <th>reclong</th>\n",
       "      <th>GeoLocation</th>\n",
       "    </tr>\n",
       "  </thead>\n",
       "  <tbody>\n",
       "    <tr>\n",
       "      <th>0</th>\n",
       "      <td>Aachen</td>\n",
       "      <td>1</td>\n",
       "      <td>Valid</td>\n",
       "      <td>L5</td>\n",
       "      <td>21.0</td>\n",
       "      <td>Fell</td>\n",
       "      <td>1880.0</td>\n",
       "      <td>50.77500</td>\n",
       "      <td>6.08333</td>\n",
       "      <td>(50.775000, 6.083330)</td>\n",
       "    </tr>\n",
       "    <tr>\n",
       "      <th>1</th>\n",
       "      <td>Aarhus</td>\n",
       "      <td>2</td>\n",
       "      <td>Valid</td>\n",
       "      <td>H6</td>\n",
       "      <td>720.0</td>\n",
       "      <td>Fell</td>\n",
       "      <td>1951.0</td>\n",
       "      <td>56.18333</td>\n",
       "      <td>10.23333</td>\n",
       "      <td>(56.183330, 10.233330)</td>\n",
       "    </tr>\n",
       "    <tr>\n",
       "      <th>2</th>\n",
       "      <td>Abee</td>\n",
       "      <td>6</td>\n",
       "      <td>Valid</td>\n",
       "      <td>EH4</td>\n",
       "      <td>107000.0</td>\n",
       "      <td>Fell</td>\n",
       "      <td>1952.0</td>\n",
       "      <td>54.21667</td>\n",
       "      <td>-113.00000</td>\n",
       "      <td>(54.216670, -113.000000)</td>\n",
       "    </tr>\n",
       "    <tr>\n",
       "      <th>3</th>\n",
       "      <td>Acapulco</td>\n",
       "      <td>10</td>\n",
       "      <td>Valid</td>\n",
       "      <td>Acapulcoite</td>\n",
       "      <td>1914.0</td>\n",
       "      <td>Fell</td>\n",
       "      <td>1976.0</td>\n",
       "      <td>16.88333</td>\n",
       "      <td>-99.90000</td>\n",
       "      <td>(16.883330, -99.900000)</td>\n",
       "    </tr>\n",
       "    <tr>\n",
       "      <th>4</th>\n",
       "      <td>Achiras</td>\n",
       "      <td>370</td>\n",
       "      <td>Valid</td>\n",
       "      <td>L6</td>\n",
       "      <td>780.0</td>\n",
       "      <td>Fell</td>\n",
       "      <td>1902.0</td>\n",
       "      <td>-33.16667</td>\n",
       "      <td>-64.95000</td>\n",
       "      <td>(-33.166670, -64.950000)</td>\n",
       "    </tr>\n",
       "  </tbody>\n",
       "</table>\n",
       "</div>"
      ],
      "text/plain": [
       "       name   id nametype     recclass      mass  fall    year    reclat  \\\n",
       "0    Aachen    1    Valid           L5      21.0  Fell  1880.0  50.77500   \n",
       "1    Aarhus    2    Valid           H6     720.0  Fell  1951.0  56.18333   \n",
       "2      Abee    6    Valid          EH4  107000.0  Fell  1952.0  54.21667   \n",
       "3  Acapulco   10    Valid  Acapulcoite    1914.0  Fell  1976.0  16.88333   \n",
       "4   Achiras  370    Valid           L6     780.0  Fell  1902.0 -33.16667   \n",
       "\n",
       "     reclong               GeoLocation  \n",
       "0    6.08333     (50.775000, 6.083330)  \n",
       "1   10.23333    (56.183330, 10.233330)  \n",
       "2 -113.00000  (54.216670, -113.000000)  \n",
       "3  -99.90000   (16.883330, -99.900000)  \n",
       "4  -64.95000  (-33.166670, -64.950000)  "
      ]
     },
     "execution_count": 8,
     "metadata": {},
     "output_type": "execute_result"
    }
   ],
   "source": [
    "Landings.head()"
   ]
  },
  {
   "cell_type": "code",
   "execution_count": 9,
   "id": "3cae0f64-b192-4779-bb60-8b1e7b09b6d0",
   "metadata": {},
   "outputs": [
    {
     "data": {
      "text/plain": [
       "(45716, 10)"
      ]
     },
     "execution_count": 9,
     "metadata": {},
     "output_type": "execute_result"
    }
   ],
   "source": [
    "Landings.shape"
   ]
  },
  {
   "cell_type": "code",
   "execution_count": 10,
   "id": "5f335498-dcbc-4152-abb3-019d47ce98f2",
   "metadata": {},
   "outputs": [],
   "source": [
    "NASAAPI = pd.read_json(r'meteorite-landings-api-1.json')"
   ]
  },
  {
   "cell_type": "code",
   "execution_count": 11,
   "id": "6c1cab5a-f393-4b76-a9fc-902445c81439",
   "metadata": {},
   "outputs": [
    {
     "data": {
      "text/html": [
       "<div>\n",
       "<style scoped>\n",
       "    .dataframe tbody tr th:only-of-type {\n",
       "        vertical-align: middle;\n",
       "    }\n",
       "\n",
       "    .dataframe tbody tr th {\n",
       "        vertical-align: top;\n",
       "    }\n",
       "\n",
       "    .dataframe thead th {\n",
       "        text-align: right;\n",
       "    }\n",
       "</style>\n",
       "<table border=\"1\" class=\"dataframe\">\n",
       "  <thead>\n",
       "    <tr style=\"text-align: right;\">\n",
       "      <th></th>\n",
       "      <th>fall</th>\n",
       "      <th>year</th>\n",
       "      <th>nametype</th>\n",
       "      <th>mass</th>\n",
       "      <th>name</th>\n",
       "      <th>recclass</th>\n",
       "      <th>reclat</th>\n",
       "      <th>reclong</th>\n",
       "      <th>id</th>\n",
       "      <th>geolocation</th>\n",
       "    </tr>\n",
       "  </thead>\n",
       "  <tbody>\n",
       "    <tr>\n",
       "      <th>0</th>\n",
       "      <td>Fell</td>\n",
       "      <td>1880-01-01T00:00:00</td>\n",
       "      <td>Valid</td>\n",
       "      <td>21.0</td>\n",
       "      <td>Aachen</td>\n",
       "      <td>L5</td>\n",
       "      <td>50.77500</td>\n",
       "      <td>6.08333</td>\n",
       "      <td>1</td>\n",
       "      <td>{'latitude': '50.775', 'needs_recoding': False...</td>\n",
       "    </tr>\n",
       "    <tr>\n",
       "      <th>1</th>\n",
       "      <td>Fell</td>\n",
       "      <td>1951-01-01T00:00:00</td>\n",
       "      <td>Valid</td>\n",
       "      <td>720.0</td>\n",
       "      <td>Aarhus</td>\n",
       "      <td>H6</td>\n",
       "      <td>56.18333</td>\n",
       "      <td>10.23333</td>\n",
       "      <td>2</td>\n",
       "      <td>{'latitude': '56.18333', 'needs_recoding': Fal...</td>\n",
       "    </tr>\n",
       "    <tr>\n",
       "      <th>2</th>\n",
       "      <td>Fell</td>\n",
       "      <td>1952-01-01T00:00:00</td>\n",
       "      <td>Valid</td>\n",
       "      <td>107000.0</td>\n",
       "      <td>Abee</td>\n",
       "      <td>EH4</td>\n",
       "      <td>54.21667</td>\n",
       "      <td>-113.00000</td>\n",
       "      <td>6</td>\n",
       "      <td>{'latitude': '54.21667', 'needs_recoding': Fal...</td>\n",
       "    </tr>\n",
       "    <tr>\n",
       "      <th>3</th>\n",
       "      <td>Fell</td>\n",
       "      <td>1976-01-01T00:00:00</td>\n",
       "      <td>Valid</td>\n",
       "      <td>1914.0</td>\n",
       "      <td>Acapulco</td>\n",
       "      <td>Acapulcoite</td>\n",
       "      <td>16.88333</td>\n",
       "      <td>-99.90000</td>\n",
       "      <td>10</td>\n",
       "      <td>{'latitude': '16.88333', 'needs_recoding': Fal...</td>\n",
       "    </tr>\n",
       "    <tr>\n",
       "      <th>4</th>\n",
       "      <td>Fell</td>\n",
       "      <td>1902-01-01T00:00:00</td>\n",
       "      <td>Valid</td>\n",
       "      <td>780.0</td>\n",
       "      <td>Achiras</td>\n",
       "      <td>L6</td>\n",
       "      <td>-33.16667</td>\n",
       "      <td>-64.95000</td>\n",
       "      <td>370</td>\n",
       "      <td>{'latitude': '-33.16667', 'needs_recoding': Fa...</td>\n",
       "    </tr>\n",
       "  </tbody>\n",
       "</table>\n",
       "</div>"
      ],
      "text/plain": [
       "   fall                 year nametype      mass      name     recclass  \\\n",
       "0  Fell  1880-01-01T00:00:00    Valid      21.0    Aachen           L5   \n",
       "1  Fell  1951-01-01T00:00:00    Valid     720.0    Aarhus           H6   \n",
       "2  Fell  1952-01-01T00:00:00    Valid  107000.0      Abee          EH4   \n",
       "3  Fell  1976-01-01T00:00:00    Valid    1914.0  Acapulco  Acapulcoite   \n",
       "4  Fell  1902-01-01T00:00:00    Valid     780.0   Achiras           L6   \n",
       "\n",
       "     reclat    reclong   id                                        geolocation  \n",
       "0  50.77500    6.08333    1  {'latitude': '50.775', 'needs_recoding': False...  \n",
       "1  56.18333   10.23333    2  {'latitude': '56.18333', 'needs_recoding': Fal...  \n",
       "2  54.21667 -113.00000    6  {'latitude': '54.21667', 'needs_recoding': Fal...  \n",
       "3  16.88333  -99.90000   10  {'latitude': '16.88333', 'needs_recoding': Fal...  \n",
       "4 -33.16667  -64.95000  370  {'latitude': '-33.16667', 'needs_recoding': Fa...  "
      ]
     },
     "execution_count": 11,
     "metadata": {},
     "output_type": "execute_result"
    }
   ],
   "source": [
    "NASAAPI.head()"
   ]
  },
  {
   "cell_type": "code",
   "execution_count": 12,
   "id": "25e31711-4407-4ac7-bdbe-7938bca2e222",
   "metadata": {},
   "outputs": [],
   "source": [
    "#Transformation 1 change headers on Landings CSV to match the wiki page"
   ]
  },
  {
   "cell_type": "code",
   "execution_count": 13,
   "id": "ca054058-be6d-486c-80e7-325b3c85a005",
   "metadata": {},
   "outputs": [],
   "source": [
    "Landings = Landings.rename(columns={\"name\":\"MeteoriteName\"})\n",
    "Landings = Landings.rename(columns={\"year\":\"FoundYear\"})\n",
    "Landings = Landings.rename(columns={\"mass\":\"Mass\"})\n",
    "Landings = Landings.rename(columns={\"name\":\"Meteorite Name\"})"
   ]
  },
  {
   "cell_type": "code",
   "execution_count": 14,
   "id": "f2972041-70d4-410b-9803-7e413fa04889",
   "metadata": {},
   "outputs": [
    {
     "data": {
      "text/html": [
       "<div>\n",
       "<style scoped>\n",
       "    .dataframe tbody tr th:only-of-type {\n",
       "        vertical-align: middle;\n",
       "    }\n",
       "\n",
       "    .dataframe tbody tr th {\n",
       "        vertical-align: top;\n",
       "    }\n",
       "\n",
       "    .dataframe thead th {\n",
       "        text-align: right;\n",
       "    }\n",
       "</style>\n",
       "<table border=\"1\" class=\"dataframe\">\n",
       "  <thead>\n",
       "    <tr style=\"text-align: right;\">\n",
       "      <th></th>\n",
       "      <th>MeteoriteName</th>\n",
       "      <th>id</th>\n",
       "      <th>nametype</th>\n",
       "      <th>recclass</th>\n",
       "      <th>Mass</th>\n",
       "      <th>fall</th>\n",
       "      <th>FoundYear</th>\n",
       "      <th>reclat</th>\n",
       "      <th>reclong</th>\n",
       "      <th>GeoLocation</th>\n",
       "    </tr>\n",
       "  </thead>\n",
       "  <tbody>\n",
       "    <tr>\n",
       "      <th>0</th>\n",
       "      <td>Aachen</td>\n",
       "      <td>1</td>\n",
       "      <td>Valid</td>\n",
       "      <td>L5</td>\n",
       "      <td>21.0</td>\n",
       "      <td>Fell</td>\n",
       "      <td>1880.0</td>\n",
       "      <td>50.77500</td>\n",
       "      <td>6.08333</td>\n",
       "      <td>(50.775000, 6.083330)</td>\n",
       "    </tr>\n",
       "    <tr>\n",
       "      <th>1</th>\n",
       "      <td>Aarhus</td>\n",
       "      <td>2</td>\n",
       "      <td>Valid</td>\n",
       "      <td>H6</td>\n",
       "      <td>720.0</td>\n",
       "      <td>Fell</td>\n",
       "      <td>1951.0</td>\n",
       "      <td>56.18333</td>\n",
       "      <td>10.23333</td>\n",
       "      <td>(56.183330, 10.233330)</td>\n",
       "    </tr>\n",
       "    <tr>\n",
       "      <th>2</th>\n",
       "      <td>Abee</td>\n",
       "      <td>6</td>\n",
       "      <td>Valid</td>\n",
       "      <td>EH4</td>\n",
       "      <td>107000.0</td>\n",
       "      <td>Fell</td>\n",
       "      <td>1952.0</td>\n",
       "      <td>54.21667</td>\n",
       "      <td>-113.00000</td>\n",
       "      <td>(54.216670, -113.000000)</td>\n",
       "    </tr>\n",
       "    <tr>\n",
       "      <th>3</th>\n",
       "      <td>Acapulco</td>\n",
       "      <td>10</td>\n",
       "      <td>Valid</td>\n",
       "      <td>Acapulcoite</td>\n",
       "      <td>1914.0</td>\n",
       "      <td>Fell</td>\n",
       "      <td>1976.0</td>\n",
       "      <td>16.88333</td>\n",
       "      <td>-99.90000</td>\n",
       "      <td>(16.883330, -99.900000)</td>\n",
       "    </tr>\n",
       "    <tr>\n",
       "      <th>4</th>\n",
       "      <td>Achiras</td>\n",
       "      <td>370</td>\n",
       "      <td>Valid</td>\n",
       "      <td>L6</td>\n",
       "      <td>780.0</td>\n",
       "      <td>Fell</td>\n",
       "      <td>1902.0</td>\n",
       "      <td>-33.16667</td>\n",
       "      <td>-64.95000</td>\n",
       "      <td>(-33.166670, -64.950000)</td>\n",
       "    </tr>\n",
       "  </tbody>\n",
       "</table>\n",
       "</div>"
      ],
      "text/plain": [
       "  MeteoriteName   id nametype     recclass      Mass  fall  FoundYear  \\\n",
       "0        Aachen    1    Valid           L5      21.0  Fell     1880.0   \n",
       "1        Aarhus    2    Valid           H6     720.0  Fell     1951.0   \n",
       "2          Abee    6    Valid          EH4  107000.0  Fell     1952.0   \n",
       "3      Acapulco   10    Valid  Acapulcoite    1914.0  Fell     1976.0   \n",
       "4       Achiras  370    Valid           L6     780.0  Fell     1902.0   \n",
       "\n",
       "     reclat    reclong               GeoLocation  \n",
       "0  50.77500    6.08333     (50.775000, 6.083330)  \n",
       "1  56.18333   10.23333    (56.183330, 10.233330)  \n",
       "2  54.21667 -113.00000  (54.216670, -113.000000)  \n",
       "3  16.88333  -99.90000   (16.883330, -99.900000)  \n",
       "4 -33.16667  -64.95000  (-33.166670, -64.950000)  "
      ]
     },
     "execution_count": 14,
     "metadata": {},
     "output_type": "execute_result"
    }
   ],
   "source": [
    "Landings.head()"
   ]
  },
  {
   "cell_type": "code",
   "execution_count": 15,
   "id": "b47b867c-4dd1-4549-a2c9-7dc1d1e2d485",
   "metadata": {},
   "outputs": [],
   "source": [
    "#Transformation 2, create a concatenated column from the NASA data for location"
   ]
  },
  {
   "cell_type": "code",
   "execution_count": 16,
   "id": "c8914439-fe24-4f71-89b4-0c373c60e632",
   "metadata": {},
   "outputs": [
    {
     "data": {
      "text/html": [
       "<div>\n",
       "<style scoped>\n",
       "    .dataframe tbody tr th:only-of-type {\n",
       "        vertical-align: middle;\n",
       "    }\n",
       "\n",
       "    .dataframe tbody tr th {\n",
       "        vertical-align: top;\n",
       "    }\n",
       "\n",
       "    .dataframe thead th {\n",
       "        text-align: right;\n",
       "    }\n",
       "</style>\n",
       "<table border=\"1\" class=\"dataframe\">\n",
       "  <thead>\n",
       "    <tr style=\"text-align: right;\">\n",
       "      <th></th>\n",
       "      <th>fall</th>\n",
       "      <th>year</th>\n",
       "      <th>nametype</th>\n",
       "      <th>mass</th>\n",
       "      <th>name</th>\n",
       "      <th>recclass</th>\n",
       "      <th>reclat</th>\n",
       "      <th>reclong</th>\n",
       "      <th>id</th>\n",
       "      <th>geolocation</th>\n",
       "      <th>GeoLocation</th>\n",
       "    </tr>\n",
       "  </thead>\n",
       "  <tbody>\n",
       "    <tr>\n",
       "      <th>0</th>\n",
       "      <td>Fell</td>\n",
       "      <td>1880-01-01T00:00:00</td>\n",
       "      <td>Valid</td>\n",
       "      <td>21.0</td>\n",
       "      <td>Aachen</td>\n",
       "      <td>L5</td>\n",
       "      <td>50.77500</td>\n",
       "      <td>6.08333</td>\n",
       "      <td>1</td>\n",
       "      <td>{'latitude': '50.775', 'needs_recoding': False...</td>\n",
       "      <td>(50.775, 6.08333)</td>\n",
       "    </tr>\n",
       "    <tr>\n",
       "      <th>1</th>\n",
       "      <td>Fell</td>\n",
       "      <td>1951-01-01T00:00:00</td>\n",
       "      <td>Valid</td>\n",
       "      <td>720.0</td>\n",
       "      <td>Aarhus</td>\n",
       "      <td>H6</td>\n",
       "      <td>56.18333</td>\n",
       "      <td>10.23333</td>\n",
       "      <td>2</td>\n",
       "      <td>{'latitude': '56.18333', 'needs_recoding': Fal...</td>\n",
       "      <td>(56.18333, 10.23333)</td>\n",
       "    </tr>\n",
       "    <tr>\n",
       "      <th>2</th>\n",
       "      <td>Fell</td>\n",
       "      <td>1952-01-01T00:00:00</td>\n",
       "      <td>Valid</td>\n",
       "      <td>107000.0</td>\n",
       "      <td>Abee</td>\n",
       "      <td>EH4</td>\n",
       "      <td>54.21667</td>\n",
       "      <td>-113.00000</td>\n",
       "      <td>6</td>\n",
       "      <td>{'latitude': '54.21667', 'needs_recoding': Fal...</td>\n",
       "      <td>(54.21667, -113.0)</td>\n",
       "    </tr>\n",
       "    <tr>\n",
       "      <th>3</th>\n",
       "      <td>Fell</td>\n",
       "      <td>1976-01-01T00:00:00</td>\n",
       "      <td>Valid</td>\n",
       "      <td>1914.0</td>\n",
       "      <td>Acapulco</td>\n",
       "      <td>Acapulcoite</td>\n",
       "      <td>16.88333</td>\n",
       "      <td>-99.90000</td>\n",
       "      <td>10</td>\n",
       "      <td>{'latitude': '16.88333', 'needs_recoding': Fal...</td>\n",
       "      <td>(16.88333, -99.9)</td>\n",
       "    </tr>\n",
       "    <tr>\n",
       "      <th>4</th>\n",
       "      <td>Fell</td>\n",
       "      <td>1902-01-01T00:00:00</td>\n",
       "      <td>Valid</td>\n",
       "      <td>780.0</td>\n",
       "      <td>Achiras</td>\n",
       "      <td>L6</td>\n",
       "      <td>-33.16667</td>\n",
       "      <td>-64.95000</td>\n",
       "      <td>370</td>\n",
       "      <td>{'latitude': '-33.16667', 'needs_recoding': Fa...</td>\n",
       "      <td>(-33.16667, -64.95)</td>\n",
       "    </tr>\n",
       "  </tbody>\n",
       "</table>\n",
       "</div>"
      ],
      "text/plain": [
       "   fall                 year nametype      mass      name     recclass  \\\n",
       "0  Fell  1880-01-01T00:00:00    Valid      21.0    Aachen           L5   \n",
       "1  Fell  1951-01-01T00:00:00    Valid     720.0    Aarhus           H6   \n",
       "2  Fell  1952-01-01T00:00:00    Valid  107000.0      Abee          EH4   \n",
       "3  Fell  1976-01-01T00:00:00    Valid    1914.0  Acapulco  Acapulcoite   \n",
       "4  Fell  1902-01-01T00:00:00    Valid     780.0   Achiras           L6   \n",
       "\n",
       "     reclat    reclong   id  \\\n",
       "0  50.77500    6.08333    1   \n",
       "1  56.18333   10.23333    2   \n",
       "2  54.21667 -113.00000    6   \n",
       "3  16.88333  -99.90000   10   \n",
       "4 -33.16667  -64.95000  370   \n",
       "\n",
       "                                         geolocation           GeoLocation  \n",
       "0  {'latitude': '50.775', 'needs_recoding': False...     (50.775, 6.08333)  \n",
       "1  {'latitude': '56.18333', 'needs_recoding': Fal...  (56.18333, 10.23333)  \n",
       "2  {'latitude': '54.21667', 'needs_recoding': Fal...    (54.21667, -113.0)  \n",
       "3  {'latitude': '16.88333', 'needs_recoding': Fal...     (16.88333, -99.9)  \n",
       "4  {'latitude': '-33.16667', 'needs_recoding': Fa...   (-33.16667, -64.95)  "
      ]
     },
     "execution_count": 16,
     "metadata": {},
     "output_type": "execute_result"
    }
   ],
   "source": [
    "NASAAPI['GeoLocation'] = \"(\"+ NASAAPI['reclat'].astype(str) + \", \"+ NASAAPI['reclong'].astype(str)+ \")\"\n",
    "NASAAPI.head()"
   ]
  },
  {
   "cell_type": "code",
   "execution_count": 44,
   "id": "13b19a40-4372-493d-83df-ccab907ed9d6",
   "metadata": {},
   "outputs": [],
   "source": [
    "#Wrangle 3, Find Duplicates in CSV File as there is 45000 rows, we want to see if there are duplicates in meteor name"
   ]
  },
  {
   "cell_type": "code",
   "execution_count": 45,
   "id": "ab415477-bab4-4bf2-9be2-2584ce2aea78",
   "metadata": {},
   "outputs": [
    {
     "name": "stdout",
     "output_type": "stream",
     "text": [
      "Meteorite Name dups:  False\n",
      "ID dups:  False\n",
      "nametype dups:  True\n",
      "recclass dups:  True\n",
      "Mass dups:  True\n",
      "fall dups:  True\n",
      "Found Year dups:  True\n",
      "reclat dups:  True\n",
      "reclong dups:  True\n",
      "GeoLocation dups:  True\n"
     ]
    }
   ],
   "source": [
    "#Duplicate finder\n",
    "print('Meteorite Name dups: ', any(Landings.MeteoriteName.duplicated()))\n",
    "print('ID dups: ', any(Landings.id.duplicated()))\n",
    "print('nametype dups: ', any(Landings.nametype.duplicated()))\n",
    "print('recclass dups: ', any(Landings.recclass.duplicated()))\n",
    "print('Mass dups: ', any(Landings.Mass.duplicated()))\n",
    "print('fall dups: ', any(Landings.fall.duplicated()))\n",
    "print('Found Year dups: ', any(Landings.FoundYear.duplicated()))\n",
    "print('reclat dups: ', any(Landings.reclat.duplicated()))\n",
    "print('reclong dups: ', any(Landings.reclong.duplicated()))\n",
    "print('GeoLocation dups: ', any(Landings.GeoLocation.duplicated()))"
   ]
  },
  {
   "cell_type": "code",
   "execution_count": 46,
   "id": "f47f414f-7577-4cb1-86b8-ebd1e12db5b8",
   "metadata": {},
   "outputs": [],
   "source": [
    "#we see dups for lots of variables but not for Meteorite Name which is the unique identifier"
   ]
  },
  {
   "cell_type": "code",
   "execution_count": 47,
   "id": "6c5da7d0-7d25-4624-bf31-b08d53d3b333",
   "metadata": {},
   "outputs": [],
   "source": [
    "#Transform 4, Find NA Files in landings data mass. We want to be able to do some calculations on Mass data and need to be able to work with it as an integer. Step one is dealing with nulls"
   ]
  },
  {
   "cell_type": "code",
   "execution_count": 48,
   "id": "5403fc8f-7475-4fa0-abda-ba9f1692ce99",
   "metadata": {},
   "outputs": [
    {
     "name": "stdout",
     "output_type": "stream",
     "text": [
      "Mass have nulls:  False\n"
     ]
    }
   ],
   "source": [
    "print('Mass have nulls: ', Landings.Mass.isnull().values.any())"
   ]
  },
  {
   "cell_type": "code",
   "execution_count": 49,
   "id": "da90b6e3-7816-44f6-a1ff-8c434445e2ce",
   "metadata": {},
   "outputs": [],
   "source": [
    "Landings = Landings[np.isfinite(Landings['Mass'])]"
   ]
  },
  {
   "cell_type": "code",
   "execution_count": 50,
   "id": "9e75403c-079e-418e-a38f-6835af7120fe",
   "metadata": {},
   "outputs": [
    {
     "data": {
      "text/plain": [
       "dtype('int32')"
      ]
     },
     "execution_count": 50,
     "metadata": {},
     "output_type": "execute_result"
    }
   ],
   "source": [
    "Landings[\"Mass\"].dtypes"
   ]
  },
  {
   "cell_type": "code",
   "execution_count": 51,
   "id": "43ebcef6-51d8-44b1-a459-0483696f5601",
   "metadata": {},
   "outputs": [],
   "source": [
    "#Tranform 5 Convert Mass to int. This will allow us to statistical computations with the data"
   ]
  },
  {
   "cell_type": "code",
   "execution_count": 52,
   "id": "8fc00a92-3522-4f17-9337-94095335d6ee",
   "metadata": {},
   "outputs": [],
   "source": [
    "Landings.Mass = Landings.Mass.astype(int)"
   ]
  },
  {
   "cell_type": "code",
   "execution_count": 53,
   "id": "475670a6-ffbf-4edd-b017-6de71bcd4bb2",
   "metadata": {},
   "outputs": [
    {
     "data": {
      "text/plain": [
       "dtype('int32')"
      ]
     },
     "execution_count": 53,
     "metadata": {},
     "output_type": "execute_result"
    }
   ],
   "source": [
    "Landings[\"Mass\"].dtypes"
   ]
  },
  {
   "cell_type": "code",
   "execution_count": 54,
   "id": "102ec5fa-6684-4791-879a-b382eaa9662b",
   "metadata": {},
   "outputs": [
    {
     "data": {
      "text/plain": [
       "13277.723659098388"
      ]
     },
     "execution_count": 54,
     "metadata": {},
     "output_type": "execute_result"
    }
   ],
   "source": [
    "#we can now do calculations\n",
    "Landings[\"Mass\"].mean()"
   ]
  },
  {
   "cell_type": "code",
   "execution_count": 57,
   "id": "d744934d-5961-4426-be1e-3f6bd8195dab",
   "metadata": {},
   "outputs": [
    {
     "data": {
      "text/plain": [
       "574988.8845330346"
      ]
     },
     "execution_count": 57,
     "metadata": {},
     "output_type": "execute_result"
    }
   ],
   "source": [
    "Landings[\"Mass\"].std()"
   ]
  },
  {
   "cell_type": "code",
   "execution_count": 68,
   "id": "d8ed1ca1-01e2-472c-955b-4b3b3d418ff3",
   "metadata": {},
   "outputs": [],
   "source": [
    "#transformation 6, We are changing the weight to Tons because Kg is too small, and we want to plot the values\n",
    "Landings[\"Weight by Tons\"] = Landings[\"Mass\"]/1000"
   ]
  },
  {
   "cell_type": "code",
   "execution_count": 70,
   "id": "584611bd-8a90-4be0-9031-289cde997da3",
   "metadata": {},
   "outputs": [
    {
     "data": {
      "text/plain": [
       "Text(0.5, 1.0, 'Weight of metoerites found')"
      ]
     },
     "execution_count": 70,
     "metadata": {},
     "output_type": "execute_result"
    },
    {
     "data": {
      "image/png": "[encoded data removed]",
      "text/plain": [
       "<Figure size 432x288 with 1 Axes>"
      ]
     },
     "metadata": {
      "needs_background": "light"
     },
     "output_type": "display_data"
    }
   ],
   "source": [
    "plt.scatter(Landings[\"FoundYear\"],Landings[\"Weight by Tons\"])\n",
    "plt.xlabel('Year Found')\n",
    "plt.ylabel('Weight in Tons')\n",
    "plt.title('Weight of metoerites found')"
   ]
  },
  {
   "cell_type": "code",
   "execution_count": 71,
   "id": "131f1b3f-223b-43b5-9c33-5b4f8faea97c",
   "metadata": {},
   "outputs": [
    {
     "data": {
      "text/plain": [
       "{'whiskers': [<matplotlib.lines.Line2D at 0x2b8e4f1b2e0>,\n",
       "  <matplotlib.lines.Line2D at 0x2b8e4f1b5b0>],\n",
       " 'caps': [<matplotlib.lines.Line2D at 0x2b8e4f1b880>,\n",
       "  <matplotlib.lines.Line2D at 0x2b8e4f1bb80>],\n",
       " 'boxes': [<matplotlib.lines.Line2D at 0x2b8e4f0bfd0>],\n",
       " 'medians': [<matplotlib.lines.Line2D at 0x2b8e4f1be50>],\n",
       " 'fliers': [<matplotlib.lines.Line2D at 0x2b8e4f29160>],\n",
       " 'means': []}"
      ]
     },
     "execution_count": 71,
     "metadata": {},
     "output_type": "execute_result"
    },
    {
     "data": {
      "image/png": "[encoded data removed]",
      "text/plain": [
       "<Figure size 432x288 with 1 Axes>"
      ]
     },
     "metadata": {
      "needs_background": "light"
     },
     "output_type": "display_data"
    }
   ],
   "source": [
    "plt.boxplot(Landings.Mass/1000, notch=True)"
   ]
  },
  {
   "cell_type": "code",
   "execution_count": null,
   "id": "945f6cb9-3d84-49c6-bf70-65eba354d794",
   "metadata": {},
   "outputs": [],
   "source": []
  }
 ],
 "metadata": {
  "kernelspec": {
   "display_name": "Python 3 (ipykernel)",
   "language": "python",
   "name": "python3"
  },
  "language_info": {
   "codemirror_mode": {
    "name": "ipython",
    "version": 3
   },
   "file_extension": ".py",
   "mimetype": "text/x-python",
   "name": "python",
   "nbconvert_exporter": "python",
   "pygments_lexer": "ipython3",
   "version": "3.9.12"
  }
 },
 "nbformat": 4,
 "nbformat_minor": 5
}
