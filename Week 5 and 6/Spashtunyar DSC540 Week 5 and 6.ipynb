{
 "cells": [
  {
   "cell_type": "code",
   "execution_count": 22,
   "id": "fc5c633b-0401-492b-8967-7acc5d8408b9",
   "metadata": {},
   "outputs": [],
   "source": [
    "#Shaquiel Pashtunyar\n",
    "#DSC540\n",
    "#Week 5 and 6 excercise"
   ]
  },
  {
   "cell_type": "code",
   "execution_count": 23,
   "id": "1183b2e4-9e6e-41ab-840f-dde324cd65c6",
   "metadata": {},
   "outputs": [],
   "source": [
    "#Get beautiful Soup\n",
    "\n",
    "import requests as r\n",
    "import pandas as pd\n",
    "import xlrd\n",
    "from bs4 import BeautifulSoup\n",
    "import numpy as np\n",
    "import matplotlib.pyplot as plt"
   ]
  },
  {
   "cell_type": "code",
   "execution_count": 24,
   "id": "a46f6939-e7a1-438e-8574-8f674e409e44",
   "metadata": {},
   "outputs": [],
   "source": [
    "url = \"https://en.wikipedia.org/wiki/List_of_countries_by_GDP_(nominal)\"\n",
    "page = r.get(url)"
   ]
  },
  {
   "cell_type": "code",
   "execution_count": 25,
   "id": "49721f7d-5684-4e68-9bd9-1bd06df52382",
   "metadata": {},
   "outputs": [],
   "source": [
    "soup = BeautifulSoup(page.content,'html.parser')"
   ]
  },
  {
   "cell_type": "code",
   "execution_count": 26,
   "id": "58d6cad3-e738-4897-86fa-9cbf3a134b8a",
   "metadata": {},
   "outputs": [
    {
     "data": {
      "text/plain": [
       "[<meta charset=\"utf-8\"/>,\n",
       " <title>List of countries by GDP (nominal) - Wikipedia</title>,\n",
       " <script>document.documentElement.className=\"client-js\";RLCONF={\"wgBreakFrames\":false,\"wgSeparatorTransformTable\":[\"\",\"\"],\"wgDigitTransformTable\":[\"\",\"\"],\"wgDefaultDateFormat\":\"dmy\",\"wgMonthNames\":[\"\",\"January\",\"February\",\"March\",\"April\",\"May\",\"June\",\"July\",\"August\",\"September\",\"October\",\"November\",\"December\"],\"wgRequestId\":\"621818f8-5ed1-4dc4-92c7-7d4d3f08fcf6\",\"wgCSPNonce\":false,\"wgCanonicalNamespace\":\"\",\"wgCanonicalSpecialPageName\":false,\"wgNamespaceNumber\":0,\"wgPageName\":\"List_of_countries_by_GDP_(nominal)\",\"wgTitle\":\"List of countries by GDP (nominal)\",\"wgCurRevisionId\":1114178440,\"wgRevisionId\":1114178440,\"wgArticleId\":380845,\"wgIsArticle\":true,\"wgIsRedirect\":false,\"wgAction\":\"view\",\"wgUserName\":null,\"wgUserGroups\":[\"*\"],\"wgCategories\":[\"Pages using the EasyTimeline extension\",\"Articles with short description\",\"Short description is different from Wikidata\",\"Wikipedia indefinitely semi-protected pages\",\"Use dmy dates from July 2016\",\"Lists of countries by GDP\",\n",
       " \"Lists of countries by economic indicator\",\"Gross domestic product\"],\"wgPageContentLanguage\":\"en\",\"wgPageContentModel\":\"wikitext\",\"wgRelevantPageName\":\"List_of_countries_by_GDP_(nominal)\",\"wgRelevantArticleId\":380845,\"wgIsProbablyEditable\":false,\"wgRelevantPageIsProbablyEditable\":false,\"wgRestrictionEdit\":[\"autoconfirmed\"],\"wgRestrictionMove\":[\"autoconfirmed\"],\"wgFlaggedRevsParams\":{\"tags\":{\"status\":{\"levels\":1}}},\"wgVisualEditor\":{\"pageLanguageCode\":\"en\",\"pageLanguageDir\":\"ltr\",\"pageVariantFallbacks\":\"en\"},\"wgMFDisplayWikibaseDescriptions\":{\"search\":true,\"watchlist\":true,\"tagline\":false,\"nearby\":true},\"wgWMESchemaEditAttemptStepOversample\":false,\"wgWMEPageLength\":50000,\"wgNoticeProject\":\"wikipedia\",\"wgVector2022PreviewPages\":[],\"wgMediaViewerOnClick\":true,\"wgMediaViewerEnabledByDefault\":true,\"wgPopupsFlags\":10,\"wgULSCurrentAutonym\":\"English\",\"wgEditSubmitButtonLabelPublish\":true,\"wgCentralAuthMobileDomain\":false,\"wgULSPosition\":\"interlanguage\",\"wgULSisCompactLinksEnabled\":true,\n",
       " \"wgWikibaseItemId\":\"Q19093\",\"GEHomepageSuggestedEditsEnableTopics\":true,\"wgGETopicsMatchModeEnabled\":false,\"wgGEStructuredTaskRejectionReasonTextInputEnabled\":false};RLSTATE={\"ext.globalCssJs.user.styles\":\"ready\",\"site.styles\":\"ready\",\"user.styles\":\"ready\",\"ext.globalCssJs.user\":\"ready\",\"user\":\"ready\",\"user.options\":\"loading\",\"ext.timeline.styles\":\"ready\",\"ext.cite.styles\":\"ready\",\"skins.vector.styles.legacy\":\"ready\",\"jquery.tablesorter.styles\":\"ready\",\"jquery.makeCollapsible.styles\":\"ready\",\"ext.visualEditor.desktopArticleTarget.noscript\":\"ready\",\"ext.wikimediaBadges\":\"ready\",\"ext.uls.interlanguage\":\"ready\",\"wikibase.client.init\":\"ready\"};RLPAGEMODULES=[\"ext.cite.ux-enhancements\",\"ext.scribunto.logs\",\"site\",\"mediawiki.page.ready\",\"jquery.tablesorter\",\"jquery.makeCollapsible\",\"mediawiki.toc\",\"skins.vector.legacy.js\",\"mmv.head\",\"mmv.bootstrap.autostart\",\"ext.visualEditor.desktopArticleTarget.init\",\"ext.visualEditor.targetLoader\",\"ext.eventLogging\",\"ext.wikimediaEvents\",\n",
       " \"ext.navigationTiming\",\"ext.cx.eventlogging.campaigns\",\"ext.quicksurveys.init\",\"ext.centralNotice.geoIP\",\"ext.centralNotice.startUp\",\"ext.gadget.ReferenceTooltips\",\"ext.gadget.charinsert\",\"ext.gadget.extra-toolbar-buttons\",\"ext.gadget.switcher\",\"ext.centralauth.centralautologin\",\"ext.popups\",\"ext.uls.compactlinks\",\"ext.uls.interface\",\"ext.growthExperiments.SuggestedEditSession\"];</script>,\n",
       " <script>(RLQ=window.RLQ||[]).push(function(){mw.loader.implement(\"user.options@12s5i\",function($,jQuery,require,module){mw.user.tokens.set({\"patrolToken\":\"+\\\\\",\"watchToken\":\"+\\\\\",\"csrfToken\":\"+\\\\\"});});});</script>,\n",
       " <link href=\"/w/load.php?lang=en&amp;modules=ext.cite.styles%7Cext.timeline.styles%7Cext.uls.interlanguage%7Cext.visualEditor.desktopArticleTarget.noscript%7Cext.wikimediaBadges%7Cjquery.makeCollapsible.styles%7Cjquery.tablesorter.styles%7Cskins.vector.styles.legacy%7Cwikibase.client.init&amp;only=styles&amp;skin=vector\" rel=\"stylesheet\"/>,\n",
       " <script async=\"\" src=\"/w/load.php?lang=en&amp;modules=startup&amp;only=scripts&amp;raw=1&amp;skin=vector\"></script>,\n",
       " <meta content=\"\" name=\"ResourceLoaderDynamicStyles\"/>,\n",
       " <link href=\"/w/load.php?lang=en&amp;modules=site.styles&amp;only=styles&amp;skin=vector\" rel=\"stylesheet\"/>,\n",
       " <meta content=\"MediaWiki 1.40.0-wmf.4\" name=\"generator\"/>,\n",
       " <meta content=\"origin\" name=\"referrer\"/>,\n",
       " <meta content=\"origin-when-crossorigin\" name=\"referrer\"/>,\n",
       " <meta content=\"origin-when-cross-origin\" name=\"referrer\"/>,\n",
       " <meta content=\"telephone=no\" name=\"format-detection\"/>,\n",
       " <meta content=\"https://upload.wikimedia.org/wikipedia/commons/thumb/e/e0/Nominal_GDP_of_Countries_Crimea_edited.svg/1200px-Nominal_GDP_of_Countries_Crimea_edited.svg.png\" property=\"og:image\"/>,\n",
       " <meta content=\"1200\" property=\"og:image:width\"/>,\n",
       " <meta content=\"609\" property=\"og:image:height\"/>,\n",
       " <meta content=\"https://upload.wikimedia.org/wikipedia/commons/thumb/e/e0/Nominal_GDP_of_Countries_Crimea_edited.svg/800px-Nominal_GDP_of_Countries_Crimea_edited.svg.png\" property=\"og:image\"/>,\n",
       " <meta content=\"800\" property=\"og:image:width\"/>,\n",
       " <meta content=\"406\" property=\"og:image:height\"/>,\n",
       " <meta content=\"https://upload.wikimedia.org/wikipedia/commons/thumb/e/e0/Nominal_GDP_of_Countries_Crimea_edited.svg/640px-Nominal_GDP_of_Countries_Crimea_edited.svg.png\" property=\"og:image\"/>,\n",
       " <meta content=\"640\" property=\"og:image:width\"/>,\n",
       " <meta content=\"325\" property=\"og:image:height\"/>,\n",
       " <meta content=\"width=1000\" name=\"viewport\"/>,\n",
       " <meta content=\"List of countries by GDP (nominal) - Wikipedia\" property=\"og:title\"/>,\n",
       " <meta content=\"website\" property=\"og:type\"/>,\n",
       " <link href=\"//upload.wikimedia.org\" rel=\"preconnect\"/>,\n",
       " <link href=\"//en.m.wikipedia.org/wiki/List_of_countries_by_GDP_(nominal)\" media=\"only screen and (max-width: 720px)\" rel=\"alternate\"/>,\n",
       " <link href=\"/static/apple-touch/wikipedia.png\" rel=\"apple-touch-icon\"/>,\n",
       " <link href=\"/static/favicon/wikipedia.ico\" rel=\"icon\"/>,\n",
       " <link href=\"/w/opensearch_desc.php\" rel=\"search\" title=\"Wikipedia (en)\" type=\"application/opensearchdescription+xml\"/>,\n",
       " <link href=\"//en.wikipedia.org/w/api.php?action=rsd\" rel=\"EditURI\" type=\"application/rsd+xml\"/>,\n",
       " <link href=\"https://creativecommons.org/licenses/by-sa/3.0/\" rel=\"license\"/>,\n",
       " <link href=\"https://en.wikipedia.org/wiki/List_of_countries_by_GDP_(nominal)\" rel=\"canonical\"/>,\n",
       " <link href=\"//meta.wikimedia.org\" rel=\"dns-prefetch\"/>,\n",
       " <link href=\"//login.wikimedia.org\" rel=\"dns-prefetch\"/>]"
      ]
     },
     "execution_count": 26,
     "metadata": {},
     "output_type": "execute_result"
    }
   ],
   "source": [
    "#Parsed out html page using bs4\n",
    "soup.head()"
   ]
  },
  {
   "cell_type": "code",
   "execution_count": 27,
   "id": "6442f4d0-f9ef-475e-822e-5285b74c2c35",
   "metadata": {},
   "outputs": [],
   "source": [
    "#find the number of tables using the soup find\n",
    "tables = soup.find('table', class_='wikitable')"
   ]
  },
  {
   "cell_type": "code",
   "execution_count": 28,
   "id": "15654d40-83db-475c-9fb7-c46676e9ef1f",
   "metadata": {},
   "outputs": [
    {
     "name": "stdout",
     "output_type": "stream",
     "text": [
      "4\n"
     ]
    }
   ],
   "source": [
    "print(len(tables))"
   ]
  },
  {
   "cell_type": "code",
   "execution_count": 29,
   "id": "d42080d2-2640-447f-9e0c-52d13f13ccbf",
   "metadata": {},
   "outputs": [],
   "source": [
    "#7 total tables, but 4 wiki tables. We care about the wikitables"
   ]
  },
  {
   "cell_type": "code",
   "execution_count": 30,
   "id": "76480cdb-92e7-4bbd-aa66-77d73d44a822",
   "metadata": {},
   "outputs": [
    {
     "name": "stdout",
     "output_type": "stream",
     "text": [
      "<class 'bs4.element.Tag'>\n"
     ]
    }
   ],
   "source": [
    "#the table is a bs4 element\n",
    "print(type(tables)) "
   ]
  },
  {
   "cell_type": "code",
   "execution_count": 31,
   "id": "f5b9e33c-185e-43d0-a45a-7b19abdccbe1",
   "metadata": {},
   "outputs": [],
   "source": [
    "df = pd.read_html(str(tables))"
   ]
  },
  {
   "cell_type": "code",
   "execution_count": 32,
   "id": "0ab6c7e3-c5d6-4a5b-b2dc-3d62bc9388c6",
   "metadata": {},
   "outputs": [
    {
     "data": {
      "text/plain": [
       "[    Country/Territory UN Region IMF[1][13]            United Nations[14]  \\\n",
       "     Country/Territory UN Region   Estimate       Year           Estimate   \n",
       " 0               World         —   93863851       2021           87461674   \n",
       " 1       United States  Americas   25346805       2022           20893746   \n",
       " 2               China      Asia   19911593  [n 2]2022           14722801   \n",
       " 3               Japan      Asia    4912147       2022            5057759   \n",
       " 4             Germany    Europe    4256540       2022            3846414   \n",
       " ..                ...       ...        ...        ...                ...   \n",
       " 212             Palau   Oceania        244       2022                264   \n",
       " 213          Kiribati   Oceania        216       2022                181   \n",
       " 214             Nauru   Oceania        134       2022                135   \n",
       " 215        Montserrat  Americas          —          —                 68   \n",
       " 216            Tuvalu   Oceania         66       2022                 55   \n",
       " \n",
       "                World Bank[15]        \n",
       "           Year       Estimate  Year  \n",
       " 0         2020       96100091  2021  \n",
       " 1         2020       22996100  2021  \n",
       " 2    [n 3]2020       17734063  2021  \n",
       " 3         2020        4937422  2021  \n",
       " 4         2020        4223116  2021  \n",
       " ..         ...            ...   ...  \n",
       " 212       2020            258  2020  \n",
       " 213       2020            181  2020  \n",
       " 214       2020            133  2021  \n",
       " 215       2020              —     —  \n",
       " 216       2020             63  2021  \n",
       " \n",
       " [217 rows x 8 columns]]"
      ]
     },
     "execution_count": 32,
     "metadata": {},
     "output_type": "execute_result"
    }
   ],
   "source": [
    "df"
   ]
  },
  {
   "cell_type": "code",
   "execution_count": 33,
   "id": "5c328b62-3fbf-4a56-82b4-383a7f5862bd",
   "metadata": {},
   "outputs": [],
   "source": [
    "#we have three different tables merged on this main table that we can split out"
   ]
  },
  {
   "cell_type": "code",
   "execution_count": 34,
   "id": "0d083b69-0975-41e2-b28f-85039ea425c3",
   "metadata": {},
   "outputs": [
    {
     "data": {
      "text/html": [
       "<div>\n",
       "<style scoped>\n",
       "    .dataframe tbody tr th:only-of-type {\n",
       "        vertical-align: middle;\n",
       "    }\n",
       "\n",
       "    .dataframe tbody tr th {\n",
       "        vertical-align: top;\n",
       "    }\n",
       "\n",
       "    .dataframe thead tr th {\n",
       "        text-align: left;\n",
       "    }\n",
       "</style>\n",
       "<table border=\"1\" class=\"dataframe\">\n",
       "  <thead>\n",
       "    <tr>\n",
       "      <th></th>\n",
       "      <th>Country/Territory</th>\n",
       "      <th>UN Region</th>\n",
       "      <th colspan=\"2\" halign=\"left\">IMF[1][13]</th>\n",
       "      <th colspan=\"2\" halign=\"left\">United Nations[14]</th>\n",
       "      <th colspan=\"2\" halign=\"left\">World Bank[15]</th>\n",
       "    </tr>\n",
       "    <tr>\n",
       "      <th></th>\n",
       "      <th>Country/Territory</th>\n",
       "      <th>UN Region</th>\n",
       "      <th>Estimate</th>\n",
       "      <th>Year</th>\n",
       "      <th>Estimate</th>\n",
       "      <th>Year</th>\n",
       "      <th>Estimate</th>\n",
       "      <th>Year</th>\n",
       "    </tr>\n",
       "  </thead>\n",
       "  <tbody>\n",
       "    <tr>\n",
       "      <th>0</th>\n",
       "      <td>World</td>\n",
       "      <td>—</td>\n",
       "      <td>93863851</td>\n",
       "      <td>2021</td>\n",
       "      <td>87461674</td>\n",
       "      <td>2020</td>\n",
       "      <td>96100091</td>\n",
       "      <td>2021</td>\n",
       "    </tr>\n",
       "    <tr>\n",
       "      <th>1</th>\n",
       "      <td>United States</td>\n",
       "      <td>Americas</td>\n",
       "      <td>25346805</td>\n",
       "      <td>2022</td>\n",
       "      <td>20893746</td>\n",
       "      <td>2020</td>\n",
       "      <td>22996100</td>\n",
       "      <td>2021</td>\n",
       "    </tr>\n",
       "    <tr>\n",
       "      <th>2</th>\n",
       "      <td>China</td>\n",
       "      <td>Asia</td>\n",
       "      <td>19911593</td>\n",
       "      <td>[n 2]2022</td>\n",
       "      <td>14722801</td>\n",
       "      <td>[n 3]2020</td>\n",
       "      <td>17734063</td>\n",
       "      <td>2021</td>\n",
       "    </tr>\n",
       "    <tr>\n",
       "      <th>3</th>\n",
       "      <td>Japan</td>\n",
       "      <td>Asia</td>\n",
       "      <td>4912147</td>\n",
       "      <td>2022</td>\n",
       "      <td>5057759</td>\n",
       "      <td>2020</td>\n",
       "      <td>4937422</td>\n",
       "      <td>2021</td>\n",
       "    </tr>\n",
       "    <tr>\n",
       "      <th>4</th>\n",
       "      <td>Germany</td>\n",
       "      <td>Europe</td>\n",
       "      <td>4256540</td>\n",
       "      <td>2022</td>\n",
       "      <td>3846414</td>\n",
       "      <td>2020</td>\n",
       "      <td>4223116</td>\n",
       "      <td>2021</td>\n",
       "    </tr>\n",
       "    <tr>\n",
       "      <th>...</th>\n",
       "      <td>...</td>\n",
       "      <td>...</td>\n",
       "      <td>...</td>\n",
       "      <td>...</td>\n",
       "      <td>...</td>\n",
       "      <td>...</td>\n",
       "      <td>...</td>\n",
       "      <td>...</td>\n",
       "    </tr>\n",
       "    <tr>\n",
       "      <th>212</th>\n",
       "      <td>Palau</td>\n",
       "      <td>Oceania</td>\n",
       "      <td>244</td>\n",
       "      <td>2022</td>\n",
       "      <td>264</td>\n",
       "      <td>2020</td>\n",
       "      <td>258</td>\n",
       "      <td>2020</td>\n",
       "    </tr>\n",
       "    <tr>\n",
       "      <th>213</th>\n",
       "      <td>Kiribati</td>\n",
       "      <td>Oceania</td>\n",
       "      <td>216</td>\n",
       "      <td>2022</td>\n",
       "      <td>181</td>\n",
       "      <td>2020</td>\n",
       "      <td>181</td>\n",
       "      <td>2020</td>\n",
       "    </tr>\n",
       "    <tr>\n",
       "      <th>214</th>\n",
       "      <td>Nauru</td>\n",
       "      <td>Oceania</td>\n",
       "      <td>134</td>\n",
       "      <td>2022</td>\n",
       "      <td>135</td>\n",
       "      <td>2020</td>\n",
       "      <td>133</td>\n",
       "      <td>2021</td>\n",
       "    </tr>\n",
       "    <tr>\n",
       "      <th>215</th>\n",
       "      <td>Montserrat</td>\n",
       "      <td>Americas</td>\n",
       "      <td>—</td>\n",
       "      <td>—</td>\n",
       "      <td>68</td>\n",
       "      <td>2020</td>\n",
       "      <td>—</td>\n",
       "      <td>—</td>\n",
       "    </tr>\n",
       "    <tr>\n",
       "      <th>216</th>\n",
       "      <td>Tuvalu</td>\n",
       "      <td>Oceania</td>\n",
       "      <td>66</td>\n",
       "      <td>2022</td>\n",
       "      <td>55</td>\n",
       "      <td>2020</td>\n",
       "      <td>63</td>\n",
       "      <td>2021</td>\n",
       "    </tr>\n",
       "  </tbody>\n",
       "</table>\n",
       "<p>217 rows × 8 columns</p>\n",
       "</div>"
      ],
      "text/plain": [
       "    Country/Territory UN Region IMF[1][13]            United Nations[14]  \\\n",
       "    Country/Territory UN Region   Estimate       Year           Estimate   \n",
       "0               World         —   93863851       2021           87461674   \n",
       "1       United States  Americas   25346805       2022           20893746   \n",
       "2               China      Asia   19911593  [n 2]2022           14722801   \n",
       "3               Japan      Asia    4912147       2022            5057759   \n",
       "4             Germany    Europe    4256540       2022            3846414   \n",
       "..                ...       ...        ...        ...                ...   \n",
       "212             Palau   Oceania        244       2022                264   \n",
       "213          Kiribati   Oceania        216       2022                181   \n",
       "214             Nauru   Oceania        134       2022                135   \n",
       "215        Montserrat  Americas          —          —                 68   \n",
       "216            Tuvalu   Oceania         66       2022                 55   \n",
       "\n",
       "               World Bank[15]        \n",
       "          Year       Estimate  Year  \n",
       "0         2020       96100091  2021  \n",
       "1         2020       22996100  2021  \n",
       "2    [n 3]2020       17734063  2021  \n",
       "3         2020        4937422  2021  \n",
       "4         2020        4223116  2021  \n",
       "..         ...            ...   ...  \n",
       "212       2020            258  2020  \n",
       "213       2020            181  2020  \n",
       "214       2020            133  2021  \n",
       "215       2020              —     —  \n",
       "216       2020             63  2021  \n",
       "\n",
       "[217 rows x 8 columns]"
      ]
     },
     "execution_count": 34,
     "metadata": {},
     "output_type": "execute_result"
    }
   ],
   "source": [
    "#make into a more structured data frame\n",
    "dft = df[0]\n",
    "dft"
   ]
  },
  {
   "cell_type": "code",
   "execution_count": 35,
   "id": "bfa66007-06e2-4f3b-940b-109c90e9c4f2",
   "metadata": {},
   "outputs": [
    {
     "data": {
      "text/html": [
       "<div>\n",
       "<style scoped>\n",
       "    .dataframe tbody tr th:only-of-type {\n",
       "        vertical-align: middle;\n",
       "    }\n",
       "\n",
       "    .dataframe tbody tr th {\n",
       "        vertical-align: top;\n",
       "    }\n",
       "\n",
       "    .dataframe thead tr th {\n",
       "        text-align: left;\n",
       "    }\n",
       "</style>\n",
       "<table border=\"1\" class=\"dataframe\">\n",
       "  <thead>\n",
       "    <tr>\n",
       "      <th></th>\n",
       "      <th>Country/Territory</th>\n",
       "      <th>UN Region</th>\n",
       "      <th colspan=\"2\" halign=\"left\">IMF[1][13]</th>\n",
       "    </tr>\n",
       "    <tr>\n",
       "      <th></th>\n",
       "      <th>Country/Territory</th>\n",
       "      <th>UN Region</th>\n",
       "      <th>Estimate</th>\n",
       "      <th>Year</th>\n",
       "    </tr>\n",
       "  </thead>\n",
       "  <tbody>\n",
       "    <tr>\n",
       "      <th>0</th>\n",
       "      <td>World</td>\n",
       "      <td>—</td>\n",
       "      <td>93863851</td>\n",
       "      <td>2021</td>\n",
       "    </tr>\n",
       "    <tr>\n",
       "      <th>1</th>\n",
       "      <td>United States</td>\n",
       "      <td>Americas</td>\n",
       "      <td>25346805</td>\n",
       "      <td>2022</td>\n",
       "    </tr>\n",
       "    <tr>\n",
       "      <th>2</th>\n",
       "      <td>China</td>\n",
       "      <td>Asia</td>\n",
       "      <td>19911593</td>\n",
       "      <td>[n 2]2022</td>\n",
       "    </tr>\n",
       "    <tr>\n",
       "      <th>3</th>\n",
       "      <td>Japan</td>\n",
       "      <td>Asia</td>\n",
       "      <td>4912147</td>\n",
       "      <td>2022</td>\n",
       "    </tr>\n",
       "    <tr>\n",
       "      <th>4</th>\n",
       "      <td>Germany</td>\n",
       "      <td>Europe</td>\n",
       "      <td>4256540</td>\n",
       "      <td>2022</td>\n",
       "    </tr>\n",
       "    <tr>\n",
       "      <th>...</th>\n",
       "      <td>...</td>\n",
       "      <td>...</td>\n",
       "      <td>...</td>\n",
       "      <td>...</td>\n",
       "    </tr>\n",
       "    <tr>\n",
       "      <th>212</th>\n",
       "      <td>Palau</td>\n",
       "      <td>Oceania</td>\n",
       "      <td>244</td>\n",
       "      <td>2022</td>\n",
       "    </tr>\n",
       "    <tr>\n",
       "      <th>213</th>\n",
       "      <td>Kiribati</td>\n",
       "      <td>Oceania</td>\n",
       "      <td>216</td>\n",
       "      <td>2022</td>\n",
       "    </tr>\n",
       "    <tr>\n",
       "      <th>214</th>\n",
       "      <td>Nauru</td>\n",
       "      <td>Oceania</td>\n",
       "      <td>134</td>\n",
       "      <td>2022</td>\n",
       "    </tr>\n",
       "    <tr>\n",
       "      <th>215</th>\n",
       "      <td>Montserrat</td>\n",
       "      <td>Americas</td>\n",
       "      <td>—</td>\n",
       "      <td>—</td>\n",
       "    </tr>\n",
       "    <tr>\n",
       "      <th>216</th>\n",
       "      <td>Tuvalu</td>\n",
       "      <td>Oceania</td>\n",
       "      <td>66</td>\n",
       "      <td>2022</td>\n",
       "    </tr>\n",
       "  </tbody>\n",
       "</table>\n",
       "<p>217 rows × 4 columns</p>\n",
       "</div>"
      ],
      "text/plain": [
       "    Country/Territory UN Region IMF[1][13]           \n",
       "    Country/Territory UN Region   Estimate       Year\n",
       "0               World         —   93863851       2021\n",
       "1       United States  Americas   25346805       2022\n",
       "2               China      Asia   19911593  [n 2]2022\n",
       "3               Japan      Asia    4912147       2022\n",
       "4             Germany    Europe    4256540       2022\n",
       "..                ...       ...        ...        ...\n",
       "212             Palau   Oceania        244       2022\n",
       "213          Kiribati   Oceania        216       2022\n",
       "214             Nauru   Oceania        134       2022\n",
       "215        Montserrat  Americas          —          —\n",
       "216            Tuvalu   Oceania         66       2022\n",
       "\n",
       "[217 rows x 4 columns]"
      ]
     },
     "execution_count": 35,
     "metadata": {},
     "output_type": "execute_result"
    }
   ],
   "source": [
    "#Extract the subset of just the IMF Data\n",
    "dfIMF = dft[['Country/Territory', 'UN Region', 'IMF[1][13]']]\n",
    "dfIMF"
   ]
  },
  {
   "cell_type": "code",
   "execution_count": 36,
   "id": "bbe63e6f-dc10-42a5-9a6a-5b83e66fe47d",
   "metadata": {},
   "outputs": [
    {
     "data": {
      "text/html": [
       "<div>\n",
       "<style scoped>\n",
       "    .dataframe tbody tr th:only-of-type {\n",
       "        vertical-align: middle;\n",
       "    }\n",
       "\n",
       "    .dataframe tbody tr th {\n",
       "        vertical-align: top;\n",
       "    }\n",
       "\n",
       "    .dataframe thead tr th {\n",
       "        text-align: left;\n",
       "    }\n",
       "</style>\n",
       "<table border=\"1\" class=\"dataframe\">\n",
       "  <thead>\n",
       "    <tr>\n",
       "      <th></th>\n",
       "      <th>Country/Territory</th>\n",
       "      <th>UN Region</th>\n",
       "      <th colspan=\"2\" halign=\"left\">United Nations[14]</th>\n",
       "    </tr>\n",
       "    <tr>\n",
       "      <th></th>\n",
       "      <th>Country/Territory</th>\n",
       "      <th>UN Region</th>\n",
       "      <th>Estimate</th>\n",
       "      <th>Year</th>\n",
       "    </tr>\n",
       "  </thead>\n",
       "  <tbody>\n",
       "    <tr>\n",
       "      <th>0</th>\n",
       "      <td>World</td>\n",
       "      <td>—</td>\n",
       "      <td>87461674</td>\n",
       "      <td>2020</td>\n",
       "    </tr>\n",
       "    <tr>\n",
       "      <th>1</th>\n",
       "      <td>United States</td>\n",
       "      <td>Americas</td>\n",
       "      <td>20893746</td>\n",
       "      <td>2020</td>\n",
       "    </tr>\n",
       "    <tr>\n",
       "      <th>2</th>\n",
       "      <td>China</td>\n",
       "      <td>Asia</td>\n",
       "      <td>14722801</td>\n",
       "      <td>[n 3]2020</td>\n",
       "    </tr>\n",
       "    <tr>\n",
       "      <th>3</th>\n",
       "      <td>Japan</td>\n",
       "      <td>Asia</td>\n",
       "      <td>5057759</td>\n",
       "      <td>2020</td>\n",
       "    </tr>\n",
       "    <tr>\n",
       "      <th>4</th>\n",
       "      <td>Germany</td>\n",
       "      <td>Europe</td>\n",
       "      <td>3846414</td>\n",
       "      <td>2020</td>\n",
       "    </tr>\n",
       "    <tr>\n",
       "      <th>...</th>\n",
       "      <td>...</td>\n",
       "      <td>...</td>\n",
       "      <td>...</td>\n",
       "      <td>...</td>\n",
       "    </tr>\n",
       "    <tr>\n",
       "      <th>212</th>\n",
       "      <td>Palau</td>\n",
       "      <td>Oceania</td>\n",
       "      <td>264</td>\n",
       "      <td>2020</td>\n",
       "    </tr>\n",
       "    <tr>\n",
       "      <th>213</th>\n",
       "      <td>Kiribati</td>\n",
       "      <td>Oceania</td>\n",
       "      <td>181</td>\n",
       "      <td>2020</td>\n",
       "    </tr>\n",
       "    <tr>\n",
       "      <th>214</th>\n",
       "      <td>Nauru</td>\n",
       "      <td>Oceania</td>\n",
       "      <td>135</td>\n",
       "      <td>2020</td>\n",
       "    </tr>\n",
       "    <tr>\n",
       "      <th>215</th>\n",
       "      <td>Montserrat</td>\n",
       "      <td>Americas</td>\n",
       "      <td>68</td>\n",
       "      <td>2020</td>\n",
       "    </tr>\n",
       "    <tr>\n",
       "      <th>216</th>\n",
       "      <td>Tuvalu</td>\n",
       "      <td>Oceania</td>\n",
       "      <td>55</td>\n",
       "      <td>2020</td>\n",
       "    </tr>\n",
       "  </tbody>\n",
       "</table>\n",
       "<p>217 rows × 4 columns</p>\n",
       "</div>"
      ],
      "text/plain": [
       "    Country/Territory UN Region United Nations[14]           \n",
       "    Country/Territory UN Region           Estimate       Year\n",
       "0               World         —           87461674       2020\n",
       "1       United States  Americas           20893746       2020\n",
       "2               China      Asia           14722801  [n 3]2020\n",
       "3               Japan      Asia            5057759       2020\n",
       "4             Germany    Europe            3846414       2020\n",
       "..                ...       ...                ...        ...\n",
       "212             Palau   Oceania                264       2020\n",
       "213          Kiribati   Oceania                181       2020\n",
       "214             Nauru   Oceania                135       2020\n",
       "215        Montserrat  Americas                 68       2020\n",
       "216            Tuvalu   Oceania                 55       2020\n",
       "\n",
       "[217 rows x 4 columns]"
      ]
     },
     "execution_count": 36,
     "metadata": {},
     "output_type": "execute_result"
    }
   ],
   "source": [
    "#Repeat the steps to get the other data source table\n",
    "dfUN = dft[['Country/Territory', 'UN Region', 'United Nations[14]']]\n",
    "dfUN"
   ]
  },
  {
   "cell_type": "code",
   "execution_count": 37,
   "id": "368dec5f-9e99-4225-ab84-d5d711833747",
   "metadata": {},
   "outputs": [
    {
     "data": {
      "text/html": [
       "<div>\n",
       "<style scoped>\n",
       "    .dataframe tbody tr th:only-of-type {\n",
       "        vertical-align: middle;\n",
       "    }\n",
       "\n",
       "    .dataframe tbody tr th {\n",
       "        vertical-align: top;\n",
       "    }\n",
       "\n",
       "    .dataframe thead tr th {\n",
       "        text-align: left;\n",
       "    }\n",
       "</style>\n",
       "<table border=\"1\" class=\"dataframe\">\n",
       "  <thead>\n",
       "    <tr>\n",
       "      <th></th>\n",
       "      <th>Country/Territory</th>\n",
       "      <th>UN Region</th>\n",
       "      <th colspan=\"2\" halign=\"left\">World Bank[15]</th>\n",
       "    </tr>\n",
       "    <tr>\n",
       "      <th></th>\n",
       "      <th>Country/Territory</th>\n",
       "      <th>UN Region</th>\n",
       "      <th>Estimate</th>\n",
       "      <th>Year</th>\n",
       "    </tr>\n",
       "  </thead>\n",
       "  <tbody>\n",
       "    <tr>\n",
       "      <th>0</th>\n",
       "      <td>World</td>\n",
       "      <td>—</td>\n",
       "      <td>96100091</td>\n",
       "      <td>2021</td>\n",
       "    </tr>\n",
       "    <tr>\n",
       "      <th>1</th>\n",
       "      <td>United States</td>\n",
       "      <td>Americas</td>\n",
       "      <td>22996100</td>\n",
       "      <td>2021</td>\n",
       "    </tr>\n",
       "    <tr>\n",
       "      <th>2</th>\n",
       "      <td>China</td>\n",
       "      <td>Asia</td>\n",
       "      <td>17734063</td>\n",
       "      <td>2021</td>\n",
       "    </tr>\n",
       "    <tr>\n",
       "      <th>3</th>\n",
       "      <td>Japan</td>\n",
       "      <td>Asia</td>\n",
       "      <td>4937422</td>\n",
       "      <td>2021</td>\n",
       "    </tr>\n",
       "    <tr>\n",
       "      <th>4</th>\n",
       "      <td>Germany</td>\n",
       "      <td>Europe</td>\n",
       "      <td>4223116</td>\n",
       "      <td>2021</td>\n",
       "    </tr>\n",
       "    <tr>\n",
       "      <th>...</th>\n",
       "      <td>...</td>\n",
       "      <td>...</td>\n",
       "      <td>...</td>\n",
       "      <td>...</td>\n",
       "    </tr>\n",
       "    <tr>\n",
       "      <th>212</th>\n",
       "      <td>Palau</td>\n",
       "      <td>Oceania</td>\n",
       "      <td>258</td>\n",
       "      <td>2020</td>\n",
       "    </tr>\n",
       "    <tr>\n",
       "      <th>213</th>\n",
       "      <td>Kiribati</td>\n",
       "      <td>Oceania</td>\n",
       "      <td>181</td>\n",
       "      <td>2020</td>\n",
       "    </tr>\n",
       "    <tr>\n",
       "      <th>214</th>\n",
       "      <td>Nauru</td>\n",
       "      <td>Oceania</td>\n",
       "      <td>133</td>\n",
       "      <td>2021</td>\n",
       "    </tr>\n",
       "    <tr>\n",
       "      <th>215</th>\n",
       "      <td>Montserrat</td>\n",
       "      <td>Americas</td>\n",
       "      <td>—</td>\n",
       "      <td>—</td>\n",
       "    </tr>\n",
       "    <tr>\n",
       "      <th>216</th>\n",
       "      <td>Tuvalu</td>\n",
       "      <td>Oceania</td>\n",
       "      <td>63</td>\n",
       "      <td>2021</td>\n",
       "    </tr>\n",
       "  </tbody>\n",
       "</table>\n",
       "<p>217 rows × 4 columns</p>\n",
       "</div>"
      ],
      "text/plain": [
       "    Country/Territory UN Region World Bank[15]      \n",
       "    Country/Territory UN Region       Estimate  Year\n",
       "0               World         —       96100091  2021\n",
       "1       United States  Americas       22996100  2021\n",
       "2               China      Asia       17734063  2021\n",
       "3               Japan      Asia        4937422  2021\n",
       "4             Germany    Europe        4223116  2021\n",
       "..                ...       ...            ...   ...\n",
       "212             Palau   Oceania            258  2020\n",
       "213          Kiribati   Oceania            181  2020\n",
       "214             Nauru   Oceania            133  2021\n",
       "215        Montserrat  Americas              —     —\n",
       "216            Tuvalu   Oceania             63  2021\n",
       "\n",
       "[217 rows x 4 columns]"
      ]
     },
     "execution_count": 37,
     "metadata": {},
     "output_type": "execute_result"
    }
   ],
   "source": [
    "#Repeat the steps to get the other data source table\n",
    "dfWB = dft[['Country/Territory', 'UN Region', 'World Bank[15]']]\n",
    "dfWB"
   ]
  },
  {
   "cell_type": "code",
   "execution_count": 38,
   "id": "84d961af-0859-4787-bfe4-a4b2be48acba",
   "metadata": {},
   "outputs": [],
   "source": [
    "#Activity 8"
   ]
  },
  {
   "cell_type": "code",
   "execution_count": 39,
   "id": "0319bdfc-2486-4d0e-bd5a-699e6fbd8bfe",
   "metadata": {},
   "outputs": [
    {
     "data": {
      "text/html": [
       "<div>\n",
       "<style scoped>\n",
       "    .dataframe tbody tr th:only-of-type {\n",
       "        vertical-align: middle;\n",
       "    }\n",
       "\n",
       "    .dataframe tbody tr th {\n",
       "        vertical-align: top;\n",
       "    }\n",
       "\n",
       "    .dataframe thead th {\n",
       "        text-align: right;\n",
       "    }\n",
       "</style>\n",
       "<table border=\"1\" class=\"dataframe\">\n",
       "  <thead>\n",
       "    <tr style=\"text-align: right;\">\n",
       "      <th></th>\n",
       "      <th>id</th>\n",
       "      <th>first_name</th>\n",
       "      <th>last_name</th>\n",
       "      <th>email</th>\n",
       "      <th>gender</th>\n",
       "      <th>ip_address</th>\n",
       "      <th>visit</th>\n",
       "    </tr>\n",
       "  </thead>\n",
       "  <tbody>\n",
       "    <tr>\n",
       "      <th>0</th>\n",
       "      <td>1</td>\n",
       "      <td>Sonny</td>\n",
       "      <td>Dahl</td>\n",
       "      <td>sdahl0@mysql.com</td>\n",
       "      <td>Male</td>\n",
       "      <td>135.36.96.183</td>\n",
       "      <td>1225.0</td>\n",
       "    </tr>\n",
       "    <tr>\n",
       "      <th>1</th>\n",
       "      <td>2</td>\n",
       "      <td>NaN</td>\n",
       "      <td>NaN</td>\n",
       "      <td>dhoovart1@hud.gov</td>\n",
       "      <td>NaN</td>\n",
       "      <td>237.165.194.143</td>\n",
       "      <td>919.0</td>\n",
       "    </tr>\n",
       "    <tr>\n",
       "      <th>2</th>\n",
       "      <td>3</td>\n",
       "      <td>Gar</td>\n",
       "      <td>Armal</td>\n",
       "      <td>garmal2@technorati.com</td>\n",
       "      <td>NaN</td>\n",
       "      <td>166.43.137.224</td>\n",
       "      <td>271.0</td>\n",
       "    </tr>\n",
       "    <tr>\n",
       "      <th>3</th>\n",
       "      <td>4</td>\n",
       "      <td>Chiarra</td>\n",
       "      <td>Nulty</td>\n",
       "      <td>cnulty3@newyorker.com</td>\n",
       "      <td>NaN</td>\n",
       "      <td>139.98.137.108</td>\n",
       "      <td>1002.0</td>\n",
       "    </tr>\n",
       "    <tr>\n",
       "      <th>4</th>\n",
       "      <td>5</td>\n",
       "      <td>NaN</td>\n",
       "      <td>NaN</td>\n",
       "      <td>sleaver4@elegantthemes.com</td>\n",
       "      <td>NaN</td>\n",
       "      <td>46.117.117.27</td>\n",
       "      <td>2434.0</td>\n",
       "    </tr>\n",
       "  </tbody>\n",
       "</table>\n",
       "</div>"
      ],
      "text/plain": [
       "   id first_name last_name                       email gender  \\\n",
       "0   1      Sonny      Dahl            sdahl0@mysql.com   Male   \n",
       "1   2        NaN       NaN           dhoovart1@hud.gov    NaN   \n",
       "2   3        Gar     Armal      garmal2@technorati.com    NaN   \n",
       "3   4    Chiarra     Nulty       cnulty3@newyorker.com    NaN   \n",
       "4   5        NaN       NaN  sleaver4@elegantthemes.com    NaN   \n",
       "\n",
       "        ip_address   visit  \n",
       "0    135.36.96.183  1225.0  \n",
       "1  237.165.194.143   919.0  \n",
       "2   166.43.137.224   271.0  \n",
       "3   139.98.137.108  1002.0  \n",
       "4    46.117.117.27  2434.0  "
      ]
     },
     "execution_count": 39,
     "metadata": {},
     "output_type": "execute_result"
    }
   ],
   "source": [
    "#get the visit data\n",
    "visitdata =pd.read_csv('https://raw.githubusercontent.com/TrainingByPackt/Data-Wrangling-with-Python/master/Lesson06/Activity08/visit_data.csv')\n",
    "visitdata.head()"
   ]
  },
  {
   "cell_type": "code",
   "execution_count": 40,
   "id": "0c0e86de-d6b3-4913-b459-7b0c5ffadc1d",
   "metadata": {},
   "outputs": [
    {
     "data": {
      "text/plain": [
       "(1000, 7)"
      ]
     },
     "execution_count": 40,
     "metadata": {},
     "output_type": "execute_result"
    }
   ],
   "source": [
    "visitdata.shape"
   ]
  },
  {
   "cell_type": "code",
   "execution_count": 41,
   "id": "e1fa7f38-aebd-448c-988b-c7aece453fba",
   "metadata": {},
   "outputs": [
    {
     "name": "stdout",
     "output_type": "stream",
     "text": [
      "ID dups:  False\n",
      "first_name dups:  True\n",
      "last_name dups:  True\n",
      "email dups:  False\n",
      "gender dups:  True\n",
      "ip_address dups:  False\n",
      "visit dups:  True\n"
     ]
    }
   ],
   "source": [
    "#Duplicate check on each column\n",
    "print('ID dups: ', any(visitdata.id.duplicated()))\n",
    "print('first_name dups: ', any(visitdata.first_name.duplicated()))\n",
    "print('last_name dups: ', any(visitdata.last_name.duplicated()))\n",
    "print('email dups: ', any(visitdata.email.duplicated()))\n",
    "print('gender dups: ', any(visitdata.gender.duplicated()))\n",
    "print('ip_address dups: ', any(visitdata.ip_address.duplicated()))\n",
    "print('visit dups: ', any(visitdata.visit.duplicated()))"
   ]
  },
  {
   "cell_type": "code",
   "execution_count": 42,
   "id": "1d0df16b-0023-4348-8306-c42cc1e811f8",
   "metadata": {},
   "outputs": [],
   "source": [
    "#there are duplicates in 4 out of 6 of my columns"
   ]
  },
  {
   "cell_type": "code",
   "execution_count": 43,
   "id": "a3b7f026-e360-4367-adf1-2a88c7e6c69b",
   "metadata": {},
   "outputs": [
    {
     "name": "stdout",
     "output_type": "stream",
     "text": [
      "id have nulls:  False\n",
      "first_name have nulls:  True\n",
      "last_name have nulls:  True\n",
      "email have nulls:  False\n",
      "gender have nulls:  True\n",
      "ip_address have nulls:  False\n",
      "visit have nulls:  True\n"
     ]
    }
   ],
   "source": [
    "#NaN check\n",
    "print('id have nulls: ', visitdata.id.isnull().values.any())\n",
    "print('first_name have nulls: ', visitdata.first_name.isnull().values.any())\n",
    "print('last_name have nulls: ', visitdata.last_name.isnull().values.any())\n",
    "print('email have nulls: ', visitdata.email.isnull().values.any())\n",
    "print('gender have nulls: ', visitdata.gender.isnull().values.any())\n",
    "print('ip_address have nulls: ', visitdata.ip_address.isnull().values.any())\n",
    "print('visit have nulls: ', visitdata.visit.isnull().values.any())"
   ]
  },
  {
   "cell_type": "code",
   "execution_count": 44,
   "id": "59c22501-1bc8-4caf-a505-e7dec0a1812e",
   "metadata": {},
   "outputs": [],
   "source": [
    "#All my duplicate columns also have NaN"
   ]
  },
  {
   "cell_type": "code",
   "execution_count": 45,
   "id": "3296a168-a8a8-4173-893f-90e0da221217",
   "metadata": {},
   "outputs": [
    {
     "data": {
      "text/plain": [
       "(974, 7)"
      ]
     },
     "execution_count": 45,
     "metadata": {},
     "output_type": "execute_result"
    }
   ],
   "source": [
    "cleaned = visitdata[np.isfinite(visitdata['visit'])]\n",
    "cleaned.shape"
   ]
  },
  {
   "cell_type": "code",
   "execution_count": 46,
   "id": "01fe19c2-927f-4d52-a6fb-ed9b45dc2e49",
   "metadata": {},
   "outputs": [],
   "source": [
    "#a reduction of 26 rows"
   ]
  },
  {
   "cell_type": "code",
   "execution_count": 47,
   "id": "4da60336-d0dc-4536-878b-ca079d2e1ac9",
   "metadata": {},
   "outputs": [
    {
     "name": "stdout",
     "output_type": "stream",
     "text": [
      "visit have nulls:  False\n"
     ]
    }
   ],
   "source": [
    "print('visit have nulls: ', cleaned.visit.isnull().values.any())"
   ]
  },
  {
   "cell_type": "code",
   "execution_count": 48,
   "id": "12788ec5-fed7-472a-a3b5-f998b698a38a",
   "metadata": {},
   "outputs": [],
   "source": [
    "#now I dont have null values"
   ]
  },
  {
   "cell_type": "code",
   "execution_count": 49,
   "id": "66109ccc-869d-47ad-92d7-c9fa9bb6f852",
   "metadata": {},
   "outputs": [
    {
     "name": "stdout",
     "output_type": "stream",
     "text": [
      "Before size is:  (1000, 7)\n",
      "After size is:  (974, 7)\n"
     ]
    }
   ],
   "source": [
    "#size dif of 26 rows \n",
    "print('Before size is: ', visitdata.shape)\n",
    "print('After size is: ', cleaned.shape)"
   ]
  },
  {
   "cell_type": "code",
   "execution_count": 50,
   "id": "56059896-3be0-40a5-8c40-e17095b699fc",
   "metadata": {},
   "outputs": [
    {
     "data": {
      "text/plain": [
       "{'whiskers': [<matplotlib.lines.Line2D at 0x287095d7d00>,\n",
       "  <matplotlib.lines.Line2D at 0x287095d7fd0>],\n",
       " 'caps': [<matplotlib.lines.Line2D at 0x287095f73a0>,\n",
       "  <matplotlib.lines.Line2D at 0x287095f75b0>],\n",
       " 'boxes': [<matplotlib.lines.Line2D at 0x287095d7a30>],\n",
       " 'medians': [<matplotlib.lines.Line2D at 0x287095f7880>],\n",
       " 'fliers': [<matplotlib.lines.Line2D at 0x287095f7b50>],\n",
       " 'means': []}"
      ]
     },
     "execution_count": 50,
     "metadata": {},
     "output_type": "execute_result"
    },
    {
     "data": {
      "image/png": "[encoded data removed]",
      "text/plain": [
       "<Figure size 432x288 with 1 Axes>"
      ]
     },
     "metadata": {
      "needs_background": "light"
     },
     "output_type": "display_data"
    }
   ],
   "source": [
    "#Box plot of outliers\n",
    "plt.boxplot(cleaned.visit, notch=True)"
   ]
  },
  {
   "cell_type": "code",
   "execution_count": 53,
   "id": "e991ecd4-3973-487c-8620-fd07ddd6ebb1",
   "metadata": {},
   "outputs": [
    {
     "data": {
      "text/plain": [
       "{'whiskers': [<matplotlib.lines.Line2D at 0x28709dd4460>,\n",
       "  <matplotlib.lines.Line2D at 0x28709dd4730>],\n",
       " 'caps': [<matplotlib.lines.Line2D at 0x28709dd4a00>,\n",
       "  <matplotlib.lines.Line2D at 0x28709dd4cd0>],\n",
       " 'boxes': [<matplotlib.lines.Line2D at 0x28709dd4160>],\n",
       " 'medians': [<matplotlib.lines.Line2D at 0x28709dd4f10>],\n",
       " 'fliers': [<matplotlib.lines.Line2D at 0x28709ddd220>],\n",
       " 'means': []}"
      ]
     },
     "execution_count": 53,
     "metadata": {},
     "output_type": "execute_result"
    },
    {
     "data": {
      "image/png": "[encoded data removed]",
      "text/plain": [
       "<Figure size 432x288 with 1 Axes>"
      ]
     },
     "metadata": {
      "needs_background": "light"
     },
     "output_type": "display_data"
    }
   ],
   "source": [
    "#Get rid of any other outliers\n",
    "vd3 = cleaned[(cleaned['visit'] <=2500) & (cleaned['visit'] >=500)]\n",
    "plt.boxplot(vd3.visit, notch=True)"
   ]
  },
  {
   "cell_type": "code",
   "execution_count": 54,
   "id": "0359750d-ed6d-4bb5-b245-0d6ed06542d3",
   "metadata": {},
   "outputs": [
    {
     "data": {
      "text/plain": [
       "(686, 7)"
      ]
     },
     "execution_count": 54,
     "metadata": {},
     "output_type": "execute_result"
    }
   ],
   "source": [
    "vd3.shape"
   ]
  },
  {
   "cell_type": "code",
   "execution_count": 55,
   "id": "bfaf052d-b365-4359-889c-a4f4f659e455",
   "metadata": {},
   "outputs": [],
   "source": [
    "#drastic reduction when removing values past 500 and 2500"
   ]
  },
  {
   "cell_type": "code",
   "execution_count": 56,
   "id": "beeafb55-b341-41b9-bb3f-965117d20320",
   "metadata": {},
   "outputs": [],
   "source": [
    "#SQL Lite assignment"
   ]
  },
  {
   "cell_type": "code",
   "execution_count": 57,
   "id": "f033d12e-9418-4817-8c6a-6715baecfbe8",
   "metadata": {},
   "outputs": [],
   "source": [
    "import sqlite3 as sql"
   ]
  },
  {
   "cell_type": "code",
   "execution_count": 58,
   "id": "cbe63dae-8e88-47f9-b719-fcc5be072a2f",
   "metadata": {},
   "outputs": [],
   "source": [
    "#create table with columns\n",
    "query = \"\"\"\n",
    "CREATE TABLE test1\n",
    "(Name VARCHAR(20), Address VARCHAR(20),\n",
    "CITY VARCHAR(20), State VARCHAR(20), Zip VARCHAR(20), Phone VARCHAR(20));\"\"\""
   ]
  },
  {
   "cell_type": "code",
   "execution_count": 59,
   "id": "e1a388ae-ec2d-4d67-a9da-a71eac4e93d8",
   "metadata": {},
   "outputs": [],
   "source": [
    "con = sql.connect('mydata.sqllite')"
   ]
  },
  {
   "cell_type": "code",
   "execution_count": 60,
   "id": "a8f3fa1b-2a3b-445a-b837-9e9ba4555be3",
   "metadata": {},
   "outputs": [
    {
     "ename": "OperationalError",
     "evalue": "table test1 already exists",
     "output_type": "error",
     "traceback": [
      "\u001b[1;31m---------------------------------------------------------------------------\u001b[0m",
      "\u001b[1;31mOperationalError\u001b[0m                          Traceback (most recent call last)",
      "Input \u001b[1;32mIn [60]\u001b[0m, in \u001b[0;36m<cell line: 1>\u001b[1;34m()\u001b[0m\n\u001b[1;32m----> 1\u001b[0m \u001b[43mcon\u001b[49m\u001b[38;5;241;43m.\u001b[39;49m\u001b[43mexecute\u001b[49m\u001b[43m(\u001b[49m\u001b[43mquery\u001b[49m\u001b[43m)\u001b[49m\n",
      "\u001b[1;31mOperationalError\u001b[0m: table test1 already exists"
     ]
    }
   ],
   "source": [
    "con.execute(query)"
   ]
  },
  {
   "cell_type": "code",
   "execution_count": 61,
   "id": "4bbd8c5b-de2c-48ff-84bb-532684018f26",
   "metadata": {},
   "outputs": [],
   "source": [
    "con.commit()"
   ]
  },
  {
   "cell_type": "code",
   "execution_count": 155,
   "id": "a46d523d-d5d7-418a-937c-d78ca7e0b07e",
   "metadata": {},
   "outputs": [],
   "source": [
    "#create my data\n",
    "Data = [('shaq1', 'shaqington', 'Shaq City', 'CA', '95124', '408-213-1234') , ('shaq2', 'shaqington', 'Shaq City', 'CA', '95124', '408-213-1234'), ('shaq3', 'shaqington', 'Shaq City', 'CA', '95124', '408-213-1234'), ('shaq4', 'shaqington', 'Shaq City', 'CA', '95124', '408-213-1234'), ('shaq1', 'shaqington', 'Shaq City', 'CA', '95124', '408-213-1234'), ('shaq5', 'shaqington', 'Shaq City', 'CA', '95124', '408-213-1234'), ('shaq6', 'shaqington', 'Shaq City', 'CA', '95124', '408-213-1234'), ('shaq7', 'shaqington', 'Shaq City', 'CA', '95124', '408-213-1234'), ('shaq8', 'shaqington', 'Shaq City', 'CA', '95124', '408-213-1234') ,('shaq9', 'shaqington', 'Shaq City', 'CA', '95124', '408-213-1234'), ('shaq10', 'shaqington', 'Shaq City', 'CA', '95124', '408-213-1234')]"
   ]
  },
  {
   "cell_type": "code",
   "execution_count": 141,
   "id": "9ab70712-f8f2-4dfd-be78-ea792df80554",
   "metadata": {},
   "outputs": [
    {
     "data": {
      "text/plain": [
       "[('shaq1', 'shaqington', 'Shaq City', 'CA', '95124', '408-213-1234'),\n",
       " ('shaq2', 'shaqington', 'Shaq City', 'CA', '95124', '408-213-1234'),\n",
       " ('shaq3', 'shaqington', 'Shaq City', 'CA', '95124', '408-213-1234'),\n",
       " ('shaq4', 'shaqington', 'Shaq City', 'CA', '95124', '408-213-1234'),\n",
       " ('shaq1', 'shaqington', 'Shaq City', 'CA', '95124', '408-213-1234'),\n",
       " ('shaq5', 'shaqington', 'Shaq City', 'CA', '95124', '408-213-1234'),\n",
       " ('shaq6', 'shaqington', 'Shaq City', 'CA', '95124', '408-213-1234'),\n",
       " ('shaq7', 'shaqington', 'Shaq City', 'CA', '95124', '408-213-1234'),\n",
       " ('shaq8', 'shaqington', 'Shaq City', 'CA', '95124', '408-213-1234'),\n",
       " ('shaq9', 'shaqington', 'Shaq City', 'CA', '95124', '408-213-1234'),\n",
       " ('shaq10', 'shaqington', 'Shaq City', 'CA', '95124', '408-213-1234')]"
      ]
     },
     "execution_count": 141,
     "metadata": {},
     "output_type": "execute_result"
    }
   ],
   "source": [
    "Data"
   ]
  },
  {
   "cell_type": "code",
   "execution_count": 143,
   "id": "249eca99-39de-44f6-b26f-433fd8ff10ad",
   "metadata": {},
   "outputs": [],
   "source": [
    "putin = 'INSERT INTO test1 VALUES(?,?,?,?,?,?)'"
   ]
  },
  {
   "cell_type": "code",
   "execution_count": 156,
   "id": "d1ee9f4f-ebbd-4555-bec7-a43fc2c73e62",
   "metadata": {},
   "outputs": [
    {
     "data": {
      "text/plain": [
       "<sqlite3.Cursor at 0x171171d2730>"
      ]
     },
     "execution_count": 156,
     "metadata": {},
     "output_type": "execute_result"
    }
   ],
   "source": [
    "#Put my data into my test 1 table\n",
    "con.executemany(putin, Data)"
   ]
  },
  {
   "cell_type": "code",
   "execution_count": 146,
   "id": "827d9c44-709c-4487-abe9-9748b41bf55c",
   "metadata": {},
   "outputs": [
    {
     "data": {
      "text/plain": [
       "<sqlite3.Cursor at 0x17117bab9d0>"
      ]
     },
     "execution_count": 146,
     "metadata": {},
     "output_type": "execute_result"
    }
   ],
   "source": [
    "cursor = con.execute ('select * from test1')\n",
    "cursor"
   ]
  },
  {
   "cell_type": "code",
   "execution_count": 148,
   "id": "bc62d647-6b40-48bc-abd1-1108352f5c48",
   "metadata": {},
   "outputs": [],
   "source": [
    "rows = cursor.fetchall()"
   ]
  },
  {
   "cell_type": "code",
   "execution_count": 149,
   "id": "ab75f223-c89b-400d-95c8-92e65cb82ab3",
   "metadata": {},
   "outputs": [
    {
     "data": {
      "text/plain": [
       "[('shaq1', 'shaqington', 'Shaq City', 'CA', '95124', '408-213-1234'),\n",
       " ('shaq2', 'shaqington', 'Shaq City', 'CA', '95124', '408-213-1234'),\n",
       " ('shaq3', 'shaqington', 'Shaq City', 'CA', '95124', '408-213-1234'),\n",
       " ('shaq4', 'shaqington', 'Shaq City', 'CA', '95124', '408-213-1234'),\n",
       " ('shaq1', 'shaqington', 'Shaq City', 'CA', '95124', '408-213-1234'),\n",
       " ('shaq5', 'shaqington', 'Shaq City', 'CA', '95124', '408-213-1234'),\n",
       " ('shaq6', 'shaqington', 'Shaq City', 'CA', '95124', '408-213-1234'),\n",
       " ('shaq7', 'shaqington', 'Shaq City', 'CA', '95124', '408-213-1234'),\n",
       " ('shaq8', 'shaqington', 'Shaq City', 'CA', '95124', '408-213-1234'),\n",
       " ('shaq9', 'shaqington', 'Shaq City', 'CA', '95124', '408-213-1234'),\n",
       " ('shaq10', 'shaqington', 'Shaq City', 'CA', '95124', '408-213-1234')]"
      ]
     },
     "execution_count": 149,
     "metadata": {},
     "output_type": "execute_result"
    }
   ],
   "source": [
    "rows"
   ]
  },
  {
   "cell_type": "code",
   "execution_count": 157,
   "id": "e7297208-838c-49f0-85a1-e035baf9e70f",
   "metadata": {},
   "outputs": [
    {
     "data": {
      "text/html": [
       "<div>\n",
       "<style scoped>\n",
       "    .dataframe tbody tr th:only-of-type {\n",
       "        vertical-align: middle;\n",
       "    }\n",
       "\n",
       "    .dataframe tbody tr th {\n",
       "        vertical-align: top;\n",
       "    }\n",
       "\n",
       "    .dataframe thead th {\n",
       "        text-align: right;\n",
       "    }\n",
       "</style>\n",
       "<table border=\"1\" class=\"dataframe\">\n",
       "  <thead>\n",
       "    <tr style=\"text-align: right;\">\n",
       "      <th></th>\n",
       "      <th>Name</th>\n",
       "      <th>Address</th>\n",
       "      <th>CITY</th>\n",
       "      <th>State</th>\n",
       "      <th>Zip</th>\n",
       "      <th>Phone</th>\n",
       "    </tr>\n",
       "  </thead>\n",
       "  <tbody>\n",
       "    <tr>\n",
       "      <th>0</th>\n",
       "      <td>shaq1</td>\n",
       "      <td>shaqington</td>\n",
       "      <td>Shaq City</td>\n",
       "      <td>CA</td>\n",
       "      <td>95124</td>\n",
       "      <td>408-213-1234</td>\n",
       "    </tr>\n",
       "    <tr>\n",
       "      <th>1</th>\n",
       "      <td>shaq2</td>\n",
       "      <td>shaqington</td>\n",
       "      <td>Shaq City</td>\n",
       "      <td>CA</td>\n",
       "      <td>95124</td>\n",
       "      <td>408-213-1234</td>\n",
       "    </tr>\n",
       "    <tr>\n",
       "      <th>2</th>\n",
       "      <td>shaq3</td>\n",
       "      <td>shaqington</td>\n",
       "      <td>Shaq City</td>\n",
       "      <td>CA</td>\n",
       "      <td>95124</td>\n",
       "      <td>408-213-1234</td>\n",
       "    </tr>\n",
       "    <tr>\n",
       "      <th>3</th>\n",
       "      <td>shaq4</td>\n",
       "      <td>shaqington</td>\n",
       "      <td>Shaq City</td>\n",
       "      <td>CA</td>\n",
       "      <td>95124</td>\n",
       "      <td>408-213-1234</td>\n",
       "    </tr>\n",
       "    <tr>\n",
       "      <th>4</th>\n",
       "      <td>shaq1</td>\n",
       "      <td>shaqington</td>\n",
       "      <td>Shaq City</td>\n",
       "      <td>CA</td>\n",
       "      <td>95124</td>\n",
       "      <td>408-213-1234</td>\n",
       "    </tr>\n",
       "    <tr>\n",
       "      <th>5</th>\n",
       "      <td>shaq5</td>\n",
       "      <td>shaqington</td>\n",
       "      <td>Shaq City</td>\n",
       "      <td>CA</td>\n",
       "      <td>95124</td>\n",
       "      <td>408-213-1234</td>\n",
       "    </tr>\n",
       "    <tr>\n",
       "      <th>6</th>\n",
       "      <td>shaq6</td>\n",
       "      <td>shaqington</td>\n",
       "      <td>Shaq City</td>\n",
       "      <td>CA</td>\n",
       "      <td>95124</td>\n",
       "      <td>408-213-1234</td>\n",
       "    </tr>\n",
       "    <tr>\n",
       "      <th>7</th>\n",
       "      <td>shaq7</td>\n",
       "      <td>shaqington</td>\n",
       "      <td>Shaq City</td>\n",
       "      <td>CA</td>\n",
       "      <td>95124</td>\n",
       "      <td>408-213-1234</td>\n",
       "    </tr>\n",
       "    <tr>\n",
       "      <th>8</th>\n",
       "      <td>shaq8</td>\n",
       "      <td>shaqington</td>\n",
       "      <td>Shaq City</td>\n",
       "      <td>CA</td>\n",
       "      <td>95124</td>\n",
       "      <td>408-213-1234</td>\n",
       "    </tr>\n",
       "    <tr>\n",
       "      <th>9</th>\n",
       "      <td>shaq9</td>\n",
       "      <td>shaqington</td>\n",
       "      <td>Shaq City</td>\n",
       "      <td>CA</td>\n",
       "      <td>95124</td>\n",
       "      <td>408-213-1234</td>\n",
       "    </tr>\n",
       "    <tr>\n",
       "      <th>10</th>\n",
       "      <td>shaq10</td>\n",
       "      <td>shaqington</td>\n",
       "      <td>Shaq City</td>\n",
       "      <td>CA</td>\n",
       "      <td>95124</td>\n",
       "      <td>408-213-1234</td>\n",
       "    </tr>\n",
       "  </tbody>\n",
       "</table>\n",
       "</div>"
      ],
      "text/plain": [
       "      Name     Address       CITY State    Zip         Phone\n",
       "0    shaq1  shaqington  Shaq City    CA  95124  408-213-1234\n",
       "1    shaq2  shaqington  Shaq City    CA  95124  408-213-1234\n",
       "2    shaq3  shaqington  Shaq City    CA  95124  408-213-1234\n",
       "3    shaq4  shaqington  Shaq City    CA  95124  408-213-1234\n",
       "4    shaq1  shaqington  Shaq City    CA  95124  408-213-1234\n",
       "5    shaq5  shaqington  Shaq City    CA  95124  408-213-1234\n",
       "6    shaq6  shaqington  Shaq City    CA  95124  408-213-1234\n",
       "7    shaq7  shaqington  Shaq City    CA  95124  408-213-1234\n",
       "8    shaq8  shaqington  Shaq City    CA  95124  408-213-1234\n",
       "9    shaq9  shaqington  Shaq City    CA  95124  408-213-1234\n",
       "10  shaq10  shaqington  Shaq City    CA  95124  408-213-1234"
      ]
     },
     "execution_count": 157,
     "metadata": {},
     "output_type": "execute_result"
    }
   ],
   "source": [
    "#Dataframe of results from SQL\n",
    "pd.DataFrame(rows,columns = [x[0] for x in cursor.description])"
   ]
  },
  {
   "cell_type": "code",
   "execution_count": null,
   "id": "2037f44b-a5b5-4aa8-8f50-d691060ed9b8",
   "metadata": {},
   "outputs": [],
   "source": []
  }
 ],
 "metadata": {
  "kernelspec": {
   "display_name": "Python 3 (ipykernel)",
   "language": "python",
   "name": "python3"
  },
  "language_info": {
   "codemirror_mode": {
    "name": "ipython",
    "version": 3
   },
   "file_extension": ".py",
   "mimetype": "text/x-python",
   "name": "python",
   "nbconvert_exporter": "python",
   "pygments_lexer": "ipython3",
   "version": "3.9.12"
  }
 },
 "nbformat": 4,
 "nbformat_minor": 5
}
