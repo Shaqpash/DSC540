{
 "cells": [
  {
   "cell_type": "code",
   "execution_count": 1,
   "id": "defe0cae-e950-4886-9f4d-cea43cbcb67f",
   "metadata": {},
   "outputs": [],
   "source": [
    "#Spashtunyar Week 3 Text Homework"
   ]
  },
  {
   "cell_type": "code",
   "execution_count": 2,
   "id": "cf1088d7-de20-4c7a-a12a-aa7713cdf381",
   "metadata": {},
   "outputs": [],
   "source": [
    "import pandas as pd"
   ]
  },
  {
   "cell_type": "code",
   "execution_count": 3,
   "id": "26032cde-7f61-4245-8e25-fcd5afc14252",
   "metadata": {},
   "outputs": [],
   "source": [
    "TrainData = pd.read_csv('labeledTrainData.tsv', sep='\\t')"
   ]
  },
  {
   "cell_type": "code",
   "execution_count": 4,
   "id": "8d357454-e009-4097-b665-128d8ecf1713",
   "metadata": {},
   "outputs": [
    {
     "data": {
      "text/html": [
       "<div>\n",
       "<style scoped>\n",
       "    .dataframe tbody tr th:only-of-type {\n",
       "        vertical-align: middle;\n",
       "    }\n",
       "\n",
       "    .dataframe tbody tr th {\n",
       "        vertical-align: top;\n",
       "    }\n",
       "\n",
       "    .dataframe thead th {\n",
       "        text-align: right;\n",
       "    }\n",
       "</style>\n",
       "<table border=\"1\" class=\"dataframe\">\n",
       "  <thead>\n",
       "    <tr style=\"text-align: right;\">\n",
       "      <th></th>\n",
       "      <th>id</th>\n",
       "      <th>sentiment</th>\n",
       "      <th>review</th>\n",
       "    </tr>\n",
       "  </thead>\n",
       "  <tbody>\n",
       "    <tr>\n",
       "      <th>0</th>\n",
       "      <td>5814_8</td>\n",
       "      <td>1</td>\n",
       "      <td>With all this stuff going down at the moment w...</td>\n",
       "    </tr>\n",
       "    <tr>\n",
       "      <th>1</th>\n",
       "      <td>2381_9</td>\n",
       "      <td>1</td>\n",
       "      <td>\\The Classic War of the Worlds\\\" by Timothy Hi...</td>\n",
       "    </tr>\n",
       "    <tr>\n",
       "      <th>2</th>\n",
       "      <td>7759_3</td>\n",
       "      <td>0</td>\n",
       "      <td>The film starts with a manager (Nicholas Bell)...</td>\n",
       "    </tr>\n",
       "    <tr>\n",
       "      <th>3</th>\n",
       "      <td>3630_4</td>\n",
       "      <td>0</td>\n",
       "      <td>It must be assumed that those who praised this...</td>\n",
       "    </tr>\n",
       "    <tr>\n",
       "      <th>4</th>\n",
       "      <td>9495_8</td>\n",
       "      <td>1</td>\n",
       "      <td>Superbly trashy and wondrously unpretentious 8...</td>\n",
       "    </tr>\n",
       "  </tbody>\n",
       "</table>\n",
       "</div>"
      ],
      "text/plain": [
       "       id  sentiment                                             review\n",
       "0  5814_8          1  With all this stuff going down at the moment w...\n",
       "1  2381_9          1  \\The Classic War of the Worlds\\\" by Timothy Hi...\n",
       "2  7759_3          0  The film starts with a manager (Nicholas Bell)...\n",
       "3  3630_4          0  It must be assumed that those who praised this...\n",
       "4  9495_8          1  Superbly trashy and wondrously unpretentious 8..."
      ]
     },
     "execution_count": 4,
     "metadata": {},
     "output_type": "execute_result"
    }
   ],
   "source": [
    "#Part 1 Q1 setting up the data set\n",
    "TrainData.head()"
   ]
  },
  {
   "cell_type": "code",
   "execution_count": 5,
   "id": "ad498ca9-963a-4494-9082-8f5435553c16",
   "metadata": {},
   "outputs": [
    {
     "data": {
      "text/plain": [
       "(25000, 3)"
      ]
     },
     "execution_count": 5,
     "metadata": {},
     "output_type": "execute_result"
    }
   ],
   "source": [
    "#understanding dataset\n",
    "TrainData.shape"
   ]
  },
  {
   "cell_type": "code",
   "execution_count": 6,
   "id": "27123e76-9d35-472a-b2fd-3ae73e4c18c5",
   "metadata": {},
   "outputs": [
    {
     "data": {
      "text/plain": [
       "75000"
      ]
     },
     "execution_count": 6,
     "metadata": {},
     "output_type": "execute_result"
    }
   ],
   "source": [
    "TrainData.size"
   ]
  },
  {
   "cell_type": "code",
   "execution_count": 7,
   "id": "0d8a20f7-11f2-4ba2-851b-d965503fb748",
   "metadata": {},
   "outputs": [
    {
     "data": {
      "text/plain": [
       "1    12500\n",
       "0    12500\n",
       "Name: sentiment, dtype: int64"
      ]
     },
     "execution_count": 7,
     "metadata": {},
     "output_type": "execute_result"
    }
   ],
   "source": [
    "TrainData['sentiment'].value_counts()"
   ]
  },
  {
   "cell_type": "code",
   "execution_count": 8,
   "id": "8079e259-292d-43c1-b50e-f0514d1b6f3d",
   "metadata": {},
   "outputs": [],
   "source": [
    "#we only have scores of 0 and 1 for our sentiment scores it appears\n",
    "#there are 12500 good and 12500 bad reviews within this data set, it is split down the middle"
   ]
  },
  {
   "cell_type": "code",
   "execution_count": 9,
   "id": "ad506fec-6b3f-4331-821d-4cde1574affb",
   "metadata": {},
   "outputs": [
    {
     "name": "stdout",
     "output_type": "stream",
     "text": [
      "Requirement already satisfied: textblob in c:\\users\\spashtunyar\\anaconda3\\lib\\site-packages (0.17.1)\n",
      "Requirement already satisfied: nltk>=3.1 in c:\\users\\spashtunyar\\anaconda3\\lib\\site-packages (from textblob) (3.7)\n",
      "Requirement already satisfied: joblib in c:\\users\\spashtunyar\\anaconda3\\lib\\site-packages (from nltk>=3.1->textblob) (1.1.0)\n",
      "Requirement already satisfied: tqdm in c:\\users\\spashtunyar\\anaconda3\\lib\\site-packages (from nltk>=3.1->textblob) (4.64.0)\n",
      "Requirement already satisfied: regex>=2021.8.3 in c:\\users\\spashtunyar\\anaconda3\\lib\\site-packages (from nltk>=3.1->textblob) (2022.3.15)\n",
      "Requirement already satisfied: click in c:\\users\\spashtunyar\\anaconda3\\lib\\site-packages (from nltk>=3.1->textblob) (8.0.4)\n",
      "Requirement already satisfied: colorama in c:\\users\\spashtunyar\\anaconda3\\lib\\site-packages (from click->nltk>=3.1->textblob) (0.4.4)\n",
      "Note: you may need to restart the kernel to use updated packages.\n"
     ]
    }
   ],
   "source": [
    "pip install -U textblob"
   ]
  },
  {
   "cell_type": "code",
   "execution_count": 10,
   "id": "22dad3d1-bea3-482e-9813-37a8bc9ea459",
   "metadata": {},
   "outputs": [],
   "source": [
    "import nltk"
   ]
  },
  {
   "cell_type": "code",
   "execution_count": 11,
   "id": "7f0d90f9-506f-4198-a321-d0ec29713fd5",
   "metadata": {},
   "outputs": [
    {
     "name": "stdout",
     "output_type": "stream",
     "text": [
      "Requirement already satisfied: textblob in c:\\users\\spashtunyar\\anaconda3\\lib\\site-packages (0.17.1)\n",
      "Requirement already satisfied: nltk>=3.1 in c:\\users\\spashtunyar\\anaconda3\\lib\\site-packages (from textblob) (3.7)\n",
      "Requirement already satisfied: joblib in c:\\users\\spashtunyar\\anaconda3\\lib\\site-packages (from nltk>=3.1->textblob) (1.1.0)\n",
      "Requirement already satisfied: click in c:\\users\\spashtunyar\\anaconda3\\lib\\site-packages (from nltk>=3.1->textblob) (8.0.4)\n",
      "Requirement already satisfied: tqdm in c:\\users\\spashtunyar\\anaconda3\\lib\\site-packages (from nltk>=3.1->textblob) (4.64.0)\n",
      "Requirement already satisfied: regex>=2021.8.3 in c:\\users\\spashtunyar\\anaconda3\\lib\\site-packages (from nltk>=3.1->textblob) (2022.3.15)\n",
      "Requirement already satisfied: colorama in c:\\users\\spashtunyar\\anaconda3\\lib\\site-packages (from click->nltk>=3.1->textblob) (0.4.4)\n"
     ]
    }
   ],
   "source": [
    "!pip3 install textblob"
   ]
  },
  {
   "cell_type": "code",
   "execution_count": 12,
   "id": "2b3645d5-a402-4a7c-81a7-9bb97218d9ee",
   "metadata": {},
   "outputs": [],
   "source": [
    "from textblob import TextBlob"
   ]
  },
  {
   "cell_type": "code",
   "execution_count": 13,
   "id": "e1745e51-3b43-4b3f-9e53-7d821c35b247",
   "metadata": {},
   "outputs": [
    {
     "name": "stdout",
     "output_type": "stream",
     "text": [
      "0.06000000000000001\n",
      "-0.34166666666666673\n"
     ]
    }
   ],
   "source": [
    "text = '''\n",
    "The titular threat of The Blob has always struck me as the ultimate movie\n",
    "monster: an insatiably hungry, amoeba-like mass able to penetrate\n",
    "virtually any safeguard, capable of--as a doomed doctor chillingly\n",
    "describes it--\"assimilating flesh on contact.\n",
    "Snide comparisons to gelatin be damned, it's a concept with the most\n",
    "devastating of potential consequences, not unlike the grey goo scenario\n",
    "proposed by technological theorists fearful of\n",
    "artificial intelligence run rampant.\n",
    "'''\n",
    "\n",
    "blob = TextBlob(text)\n",
    "blob.tags           # [('The', 'DT'), ('titular', 'JJ'),\n",
    "                    #  ('threat', 'NN'), ('of', 'IN'), ...]\n",
    "\n",
    "blob.noun_phrases   # WordList(['titular threat', 'blob',\n",
    "                    #            'ultimate movie monster',\n",
    "                    #            'amoeba-like mass', ...])\n",
    "\n",
    "for sentence in blob.sentences:\n",
    "    print(sentence.sentiment.polarity)"
   ]
  },
  {
   "cell_type": "code",
   "execution_count": 14,
   "id": "60a9b264-4545-4d6e-8404-48349b6b95b9",
   "metadata": {},
   "outputs": [],
   "source": [
    "#Textblob is installed and tested above using the sample code provided from thier package homesite. \n",
    "#It is showing the correct response so we can believe the installation occured successfully. "
   ]
  },
  {
   "cell_type": "code",
   "execution_count": 15,
   "id": "de7ac389-92ad-481b-9212-b2592718cac4",
   "metadata": {},
   "outputs": [],
   "source": [
    "#getting sentiment analysis\n",
    "TrainData['sentiment'] = TrainData['review'].apply(lambda tweet: TextBlob(tweet).sentiment)"
   ]
  },
  {
   "cell_type": "code",
   "execution_count": 16,
   "id": "9dbcb219-a6c9-406b-86a5-5cdb8cdff482",
   "metadata": {},
   "outputs": [
    {
     "data": {
      "text/plain": [
       "<bound method NDFrame.head of 0          (0.001276742581090417, 0.6067460317460317)\n",
       "1            (0.2563492063492064, 0.5311111111111111)\n",
       "2          (-0.05394123606889564, 0.5629331306990881)\n",
       "3            (0.1347530864197531, 0.4929012345679012)\n",
       "4        (-0.024841720779220786, 0.45981782106782115)\n",
       "                             ...                     \n",
       "24995       (0.10208333333333333, 0.5428571428571428)\n",
       "24996       (0.09081262939958591, 0.4623706004140787)\n",
       "24997      (0.14525641025641026, 0.48410256410256414)\n",
       "24998                  (0.065625, 0.5045138888888889)\n",
       "24999        (0.2392948717948718, 0.7358974358974358)\n",
       "Name: sentiment, Length: 25000, dtype: object>"
      ]
     },
     "execution_count": 16,
     "metadata": {},
     "output_type": "execute_result"
    }
   ],
   "source": [
    "#I have two values and want to split them\n",
    "TrainData['sentiment'].head"
   ]
  },
  {
   "cell_type": "code",
   "execution_count": 17,
   "id": "630989c1-ce25-4c77-8234-e6fb1f48c39f",
   "metadata": {},
   "outputs": [],
   "source": [
    "#subjectivity function\n",
    "def getSubjectivity(text):\n",
    "   return TextBlob(text).sentiment.subjectivity"
   ]
  },
  {
   "cell_type": "code",
   "execution_count": 18,
   "id": "b0a22bf6-7eb7-485c-9b2a-026699b0966a",
   "metadata": {},
   "outputs": [],
   "source": [
    " #Create a function to get the polarity\n",
    " def getPolarity(text):\n",
    "   return TextBlob(text).sentiment.polarity"
   ]
  },
  {
   "cell_type": "code",
   "execution_count": 19,
   "id": "b4ce5af7-29ab-44e6-b7b0-0c233b04e2a0",
   "metadata": {},
   "outputs": [],
   "source": [
    "TrainData['TextBlob_Subjectivity'] = TrainData['review'].apply(getSubjectivity)"
   ]
  },
  {
   "cell_type": "code",
   "execution_count": 20,
   "id": "2e1cd188-82f8-4959-9a33-86d2476e775f",
   "metadata": {},
   "outputs": [],
   "source": [
    "TrainData['TextBlob_Polarity'] = TrainData['review'].apply(getPolarity)"
   ]
  },
  {
   "cell_type": "code",
   "execution_count": 21,
   "id": "736b5139-1bee-4342-9346-766924f3fb2b",
   "metadata": {},
   "outputs": [
    {
     "data": {
      "text/plain": [
       "<bound method NDFrame.head of             id                                     sentiment  \\\n",
       "0       5814_8    (0.001276742581090417, 0.6067460317460317)   \n",
       "1       2381_9      (0.2563492063492064, 0.5311111111111111)   \n",
       "2       7759_3    (-0.05394123606889564, 0.5629331306990881)   \n",
       "3       3630_4      (0.1347530864197531, 0.4929012345679012)   \n",
       "4       9495_8  (-0.024841720779220786, 0.45981782106782115)   \n",
       "...        ...                                           ...   \n",
       "24995   3453_3     (0.10208333333333333, 0.5428571428571428)   \n",
       "24996   5064_1     (0.09081262939958591, 0.4623706004140787)   \n",
       "24997  10905_3    (0.14525641025641026, 0.48410256410256414)   \n",
       "24998  10194_3                (0.065625, 0.5045138888888889)   \n",
       "24999   8478_8      (0.2392948717948718, 0.7358974358974358)   \n",
       "\n",
       "                                                  review  \\\n",
       "0      With all this stuff going down at the moment w...   \n",
       "1      \\The Classic War of the Worlds\\\" by Timothy Hi...   \n",
       "2      The film starts with a manager (Nicholas Bell)...   \n",
       "3      It must be assumed that those who praised this...   \n",
       "4      Superbly trashy and wondrously unpretentious 8...   \n",
       "...                                                  ...   \n",
       "24995  It seems like more consideration has gone into...   \n",
       "24996  I don't believe they made this film. Completel...   \n",
       "24997  Guy is a loser. Can't get girls, needs to buil...   \n",
       "24998  This 30 minute documentary Buñuel made in the ...   \n",
       "24999  I saw this movie as a child and it broke my he...   \n",
       "\n",
       "       TextBlob_Subjectivity  TextBlob_Polarity  \n",
       "0                   0.606746           0.001277  \n",
       "1                   0.531111           0.256349  \n",
       "2                   0.562933          -0.053941  \n",
       "3                   0.492901           0.134753  \n",
       "4                   0.459818          -0.024842  \n",
       "...                      ...                ...  \n",
       "24995               0.542857           0.102083  \n",
       "24996               0.462371           0.090813  \n",
       "24997               0.484103           0.145256  \n",
       "24998               0.504514           0.065625  \n",
       "24999               0.735897           0.239295  \n",
       "\n",
       "[25000 rows x 5 columns]>"
      ]
     },
     "execution_count": 21,
     "metadata": {},
     "output_type": "execute_result"
    }
   ],
   "source": [
    "#Validating that I was able to split the two\n",
    "TrainData.head"
   ]
  },
  {
   "cell_type": "code",
   "execution_count": 22,
   "id": "1407796f-53f9-465c-b9b5-00b4ccbc0440",
   "metadata": {},
   "outputs": [],
   "source": [
    "#Moving to a negative or positive analysis\n",
    "def getAnalysis(score):\n",
    "  if score < 0:\n",
    "    return 'Negative'\n",
    "  elif score == 0:\n",
    "    return 'Neutral'\n",
    "  else:\n",
    "    return 'Positive'"
   ]
  },
  {
   "cell_type": "code",
   "execution_count": 23,
   "id": "3923bcaa-8774-4344-b87a-aadf7ab1de3a",
   "metadata": {},
   "outputs": [],
   "source": [
    "#positive or negative polarity views\n",
    "TrainData['TextBlob_Analysis'] = TrainData['TextBlob_Polarity'].apply(getAnalysis)"
   ]
  },
  {
   "cell_type": "code",
   "execution_count": 24,
   "id": "cde15ddf-939b-41fd-ad1c-547a80441ca5",
   "metadata": {},
   "outputs": [
    {
     "data": {
      "text/plain": [
       "Positive    19000\n",
       "Negative     5983\n",
       "Neutral        17\n",
       "Name: TextBlob_Analysis, dtype: int64"
      ]
     },
     "execution_count": 24,
     "metadata": {},
     "output_type": "execute_result"
    }
   ],
   "source": [
    "#we are able to get the counts of wether the value is positive or negative\n",
    "TrainData['TextBlob_Analysis'].value_counts()"
   ]
  },
  {
   "cell_type": "code",
   "execution_count": 25,
   "id": "d4af5734-7c50-4034-b558-4011c59f0d72",
   "metadata": {},
   "outputs": [
    {
     "name": "stdout",
     "output_type": "stream",
     "text": [
      "With all this stuff going down at the moment with MJ i've started listening to his music, watching the odd documentary here and there, watched The Wiz and watched Moonwalker again. Maybe i just want to get a certain insight into this guy who i thought was really cool in the eighties just to maybe make up my mind whether he is guilty or innocent. Moonwalker is part biography, part feature film which i remember going to see at the cinema when it was originally released. Some of it has subtle messages about MJ's feeling towards the press and also the obvious message of drugs are bad m'kay.<br /><br />Visually impressive but of course this is all about Michael Jackson so unless you remotely like MJ in anyway then you are going to hate this and find it boring. Some may call MJ an egotist for consenting to the making of this movie BUT MJ and most of his fans would say that he made it for the fans which if true is really nice of him.<br /><br />The actual feature film bit when it finally starts is only on for 20 minutes or so excluding the Smooth Criminal sequence and Joe Pesci is convincing as a psychopathic all powerful drug lord. Why he wants MJ dead so bad is beyond me. Because MJ overheard his plans? Nah, Joe Pesci's character ranted that he wanted people to know it is he who is supplying drugs etc so i dunno, maybe he just hates MJ's music.<br /><br />Lots of cool things in this like MJ turning into a car and a robot and the whole Speed Demon sequence. Also, the director must have had the patience of a saint when it came to filming the kiddy Bad sequence as usually directors hate working with one kid let alone a whole bunch of them performing a complex dance scene.<br /><br />Bottom line, this movie is for people who like MJ on one level or another (which i think is most people). If not, then stay away. It does try and give off a wholesome message and ironically MJ's bestest buddy in this movie is a girl! Michael Jackson is truly one of the most talented people ever to grace this planet but is he guilty? Well, with all the attention i've gave this subject....hmmm well i don't know because people can be different behind closed doors, i know this for a fact. He is either an extremely nice but stupid guy or one of the most sickest liars. I hope he is not the latter.\n"
     ]
    }
   ],
   "source": [
    "print(TrainData['review'].iloc[0])"
   ]
  },
  {
   "cell_type": "code",
   "execution_count": 26,
   "id": "68288da9-94f9-4987-a7c7-1cccd358b757",
   "metadata": {},
   "outputs": [
    {
     "name": "stdout",
     "output_type": "stream",
     "text": [
      "id                                                                  5814_8\n",
      "sentiment                       (0.001276742581090417, 0.6067460317460317)\n",
      "review                   With all this stuff going down at the moment w...\n",
      "TextBlob_Subjectivity                                             0.606746\n",
      "TextBlob_Polarity                                                 0.001277\n",
      "TextBlob_Analysis                                                 Positive\n",
      "Name: 0, dtype: object\n"
     ]
    }
   ],
   "source": [
    "#above validation looks positive and the score is positive, also reading this takes way to long\n",
    "print(TrainData.iloc[0])"
   ]
  },
  {
   "cell_type": "code",
   "execution_count": 27,
   "id": "3f3ae6cf-8e44-4093-b2bb-e83742104fe9",
   "metadata": {},
   "outputs": [
    {
     "name": "stdout",
     "output_type": "stream",
     "text": [
      "If this is the first of the \\Nemesis\\\" films that you have seen, then I strongly urge you to proceed no further. The sequels to \\\"Nebula\\\" prove to be no better...hard to believe considering this entry is bottom-of-the-barrel. This movie tries, but it's just not worth your time, folks. Take a nap instead.\"\n"
     ]
    }
   ],
   "source": [
    "print(TrainData['review'].iloc[750])"
   ]
  },
  {
   "cell_type": "code",
   "execution_count": 28,
   "id": "d111df29-5898-4031-9e8a-98114599dd58",
   "metadata": {},
   "outputs": [
    {
     "name": "stdout",
     "output_type": "stream",
     "text": [
      "id                                                                  3796_1\n",
      "sentiment                        (0.08666666666666667, 0.4133333333333334)\n",
      "review                   If this is the first of the \\Nemesis\\\" films t...\n",
      "TextBlob_Subjectivity                                             0.413333\n",
      "TextBlob_Polarity                                                 0.086667\n",
      "TextBlob_Analysis                                                 Positive\n",
      "Name: 750, dtype: object\n"
     ]
    }
   ],
   "source": [
    "#This one appears negative but gets a marginal passing score\n",
    "print(TrainData.iloc[750])"
   ]
  },
  {
   "cell_type": "code",
   "execution_count": 29,
   "id": "aaf6829a-f3e0-47b6-b015-12ec2260f2c4",
   "metadata": {},
   "outputs": [
    {
     "name": "stdout",
     "output_type": "stream",
     "text": [
      "Cary Grant, Douglas Fairbanks Jr. and Victor McLaglen are three soldiers in 19th Century India who, with the help of a water boy (Sam Jaffe) rid the area of the murderous thuggee cult. The chemistry between the actors helps make this one of the most entertaining movies of all time. Sam Jaffe is exceptional as the outcast water boy who is mistreated by all and still wants to be accepted as a soldier in the company. Loosely based on Rudyard Kipling's poem. A must see by anyone who enjoys this type of movie.\n"
     ]
    }
   ],
   "source": [
    "print(TrainData['review'].iloc[1527])"
   ]
  },
  {
   "cell_type": "code",
   "execution_count": 30,
   "id": "bc6a0a5e-9966-4ddc-9aaa-9b85ec78de49",
   "metadata": {},
   "outputs": [
    {
     "name": "stdout",
     "output_type": "stream",
     "text": [
      "id                                                                 5418_10\n",
      "sentiment                         (0.3579487179487179, 0.5138461538461538)\n",
      "review                   Cary Grant, Douglas Fairbanks Jr. and Victor M...\n",
      "TextBlob_Subjectivity                                             0.513846\n",
      "TextBlob_Polarity                                                 0.357949\n",
      "TextBlob_Analysis                                                 Positive\n",
      "Name: 1527, dtype: object\n"
     ]
    }
   ],
   "source": [
    "#This is very positive and appears very positive as well\n",
    "print(TrainData.iloc[1527])"
   ]
  },
  {
   "cell_type": "code",
   "execution_count": 31,
   "id": "c9f6677d-064f-4372-9884-4b461e54eb72",
   "metadata": {},
   "outputs": [],
   "source": [
    "#I think after the validation I can see that this is useful because no one has the time to read all this text. \n",
    "#It gets close to accurate results but I am still weary. Id say it beats random guessing though"
   ]
  },
  {
   "cell_type": "code",
   "execution_count": 32,
   "id": "2f7551f7-85fd-4cfc-aec9-c27699e61fda",
   "metadata": {},
   "outputs": [
    {
     "name": "stdout",
     "output_type": "stream",
     "text": [
      "Requirement already satisfied: vaderSentiment in c:\\users\\spashtunyar\\anaconda3\\lib\\site-packages (3.3.2)Note: you may need to restart the kernel to use updated packages.\n",
      "Requirement already satisfied: requests in c:\\users\\spashtunyar\\anaconda3\\lib\\site-packages (from vaderSentiment) (2.27.1)\n",
      "Requirement already satisfied: certifi>=2017.4.17 in c:\\users\\spashtunyar\\anaconda3\\lib\\site-packages (from requests->vaderSentiment) (2021.10.8)\n",
      "Requirement already satisfied: urllib3<1.27,>=1.21.1 in c:\\users\\spashtunyar\\anaconda3\\lib\\site-packages (from requests->vaderSentiment) (1.26.9)\n",
      "Requirement already satisfied: idna<4,>=2.5 in c:\\users\\spashtunyar\\anaconda3\\lib\\site-packages (from requests->vaderSentiment) (3.3)\n",
      "Requirement already satisfied: charset-normalizer~=2.0.0 in c:\\users\\spashtunyar\\anaconda3\\lib\\site-packages (from requests->vaderSentiment) (2.0.4)\n",
      "\n"
     ]
    }
   ],
   "source": [
    "pip install vaderSentiment"
   ]
  },
  {
   "cell_type": "code",
   "execution_count": 33,
   "id": "66134783-ef32-442c-a2c8-dcfe3f6079a1",
   "metadata": {},
   "outputs": [],
   "source": [
    "#import vader\n",
    "from vaderSentiment.vaderSentiment import SentimentIntensityAnalyzer"
   ]
  },
  {
   "cell_type": "code",
   "execution_count": 34,
   "id": "a9a1b1c5-c185-45a9-a0f4-d364b1b00c42",
   "metadata": {},
   "outputs": [],
   "source": [
    "#taking the vader steps from the info site\n",
    "def sentiment_scores(sentence):\n",
    " \n",
    "    # Create a SentimentIntensityAnalyzer object.\n",
    "    sid_obj = SentimentIntensityAnalyzer()\n",
    " \n",
    "    # polarity_scores method of SentimentIntensityAnalyzer\n",
    "    # object gives a sentiment dictionary.\n",
    "    # which contains pos, neg, neu, and compound scores.\n",
    "    sentiment_dict = sid_obj.polarity_scores(sentence)\n",
    "     \n",
    "    print(\"Overall sentiment dictionary is : \", sentiment_dict)\n",
    "    print(\"sentence was rated as \", sentiment_dict['neg']*100, \"% Negative\")\n",
    "    print(\"sentence was rated as \", sentiment_dict['neu']*100, \"% Neutral\")\n",
    "    print(\"sentence was rated as \", sentiment_dict['pos']*100, \"% Positive\")\n",
    " \n",
    "    print(\"Sentence Overall Rated As\", end = \" \")\n",
    " \n",
    "    # decide sentiment as positive, negative and neutral\n",
    "    if sentiment_dict['compound'] >= 0.05 :\n",
    "        print(\"Positive\")\n",
    " \n",
    "    elif sentiment_dict['compound'] <= - 0.05 :\n",
    "        print(\"Negative\")\n",
    " \n",
    "    else :\n",
    "        print(\"Neutral\")"
   ]
  },
  {
   "cell_type": "code",
   "execution_count": null,
   "id": "704cc29f-55a5-417b-a4f1-e9ee3e6c5891",
   "metadata": {},
   "outputs": [],
   "source": [
    "#Creating new column for Vader\n",
    "TrainData['VADER_Analysis'] = sentiment_scores(TrainData['review'])"
   ]
  },
  {
   "cell_type": "code",
   "execution_count": null,
   "id": "829bb58c-3ea5-4210-b70e-17189354a15f",
   "metadata": {},
   "outputs": [],
   "source": [
    "#VaderAnalysis \n",
    "TrainData['VADER_Analysis']"
   ]
  },
  {
   "cell_type": "code",
   "execution_count": 38,
   "id": "6c1fec6e-4691-4a8b-ada4-086e7b62cfdb",
   "metadata": {},
   "outputs": [],
   "source": [
    "#Lowercase\n",
    "TrainData['text_lower'] = TrainData['review'].str.lower()"
   ]
  },
  {
   "cell_type": "code",
   "execution_count": 39,
   "id": "af36d766-6c65-4871-94b4-1ae2c9c46ddd",
   "metadata": {},
   "outputs": [
    {
     "name": "stdout",
     "output_type": "stream",
     "text": [
      "id                                                                  5814_8\n",
      "sentiment                       (0.001276742581090417, 0.6067460317460317)\n",
      "review                   With all this stuff going down at the moment w...\n",
      "TextBlob_Subjectivity                                             0.606746\n",
      "TextBlob_Polarity                                                 0.001277\n",
      "TextBlob_Analysis                                                 Positive\n",
      "text_lower               with all this stuff going down at the moment w...\n",
      "Name: 0, dtype: object\n"
     ]
    }
   ],
   "source": [
    "#Validation\n",
    "print(TrainData.iloc[0])"
   ]
  },
  {
   "cell_type": "code",
   "execution_count": 69,
   "id": "50be4b01-defb-46fb-b378-a8746e9b20c7",
   "metadata": {},
   "outputs": [
    {
     "name": "stderr",
     "output_type": "stream",
     "text": [
      "C:\\Users\\spashtunyar\\AppData\\Local\\Temp\\ipykernel_34644\\4248447268.py:2: FutureWarning: The default value of regex will change from True to False in a future version.\n",
      "  TrainData[\"new_column\"] = TrainData['text_lower'].str.replace('[^\\w\\s]','')\n"
     ]
    }
   ],
   "source": [
    "#remove puncation\n",
    "TrainData[\"new_column\"] = TrainData['text_lower'].str.replace('[^\\w\\s]','')"
   ]
  },
  {
   "cell_type": "code",
   "execution_count": 44,
   "id": "929bdf71-4056-4210-bb86-a8124cd272bd",
   "metadata": {},
   "outputs": [
    {
     "name": "stdout",
     "output_type": "stream",
     "text": [
      "the film starts with a manager nicholas bell giving welcome investors robert carradine to primal park  a secret project mutating a primal animal using fossilized dna like jurassik park and some scientists resurrect one of natures most fearsome predators the sabretooth tiger or smilodon  scientific ambition turns deadly however and when the high voltage fence is opened the creature escape and begins savagely stalking its prey  the human visitors  tourists and scientificmeanwhile some youngsters enter in the restricted area of the security center and are attacked by a pack of large prehistorical animals which are deadlier and bigger  in addition  a security agent stacy haiduk and her mate brian wimmer fight hardly against the carnivorous smilodons the sabretooths themselves  of course are the real star stars and they are astounding terrifyingly though not convincing the giant animals savagely are stalking its prey and the group run afoul and fight against one natures most fearsome predators furthermore a third sabretooth more dangerous and slow stalks its victimsbr br the movie delivers the goods with lots of blood and gore as beheading hairraising chillsfull of scares when the sabretooths appear with mediocre special effectsthe story provides exciting and stirring entertainment but it results to be quite boring the giant animals are majority made by computer generator and seem totally lousy middling performances though the players reacting appropriately to becoming foodactors give vigorously physical performances dodging the beasts runningbound and leaps or dangling over walls  and it packs a ridiculous final deadly scene no for small kids by realisticgory and violent attack scenes  other films about sabretooths or smilodon are the following  sabretooth2002by james r hickox with vanessa angel david keith and john rhys davies and the much better 10000 bc2006 by roland emmerich with with steven strait cliff curtis and camilla belle this motion picture filled with bloody moments is badly directed by george miller and with no originality because takes too many elements from previous films miller is an australian director usually working for television tidal wave journey to the center of the earth and many others and occasionally for cinema  the man from snowy river zeus and roxannerobinson crusoe  rating  below average bottom of barrel\n"
     ]
    }
   ],
   "source": [
    "#validation\n",
    "print(TrainData['new_column'].iloc[2])"
   ]
  },
  {
   "cell_type": "code",
   "execution_count": 50,
   "id": "64d9fdb0-11d1-44d8-a03c-92f6fe4f81c2",
   "metadata": {},
   "outputs": [],
   "source": [
    "from nltk.tokenize import word_tokenize"
   ]
  },
  {
   "cell_type": "code",
   "execution_count": 45,
   "id": "33ee76ba-0e9f-4389-9ba7-0c7bd95d30a7",
   "metadata": {},
   "outputs": [],
   "source": [
    "from nltk.corpus import stopwords"
   ]
  },
  {
   "cell_type": "code",
   "execution_count": 46,
   "id": "2da07e3a-5411-44c0-8897-a46c1503c383",
   "metadata": {},
   "outputs": [],
   "source": [
    "import nltk"
   ]
  },
  {
   "cell_type": "code",
   "execution_count": 48,
   "id": "2b07c58c-53ce-44a6-935c-88990b4d2fa6",
   "metadata": {},
   "outputs": [
    {
     "name": "stderr",
     "output_type": "stream",
     "text": [
      "[nltk_data] Downloading package stopwords to\n",
      "[nltk_data]     C:\\Users\\spashtunyar\\Anaconda3\\nltk_data...\n",
      "[nltk_data]   Unzipping corpora\\stopwords.zip.\n"
     ]
    },
    {
     "data": {
      "text/plain": [
       "True"
      ]
     },
     "execution_count": 48,
     "metadata": {},
     "output_type": "execute_result"
    }
   ],
   "source": [
    "nltk.download('stopwords')"
   ]
  },
  {
   "cell_type": "code",
   "execution_count": 52,
   "id": "be8b4ac4-a749-48eb-8783-7e2d91b4bdf2",
   "metadata": {},
   "outputs": [],
   "source": [
    "stop_words = stopwords.words('english')"
   ]
  },
  {
   "cell_type": "code",
   "execution_count": 53,
   "id": "537b99c7-82c8-425a-a814-5c47ead177ec",
   "metadata": {},
   "outputs": [
    {
     "name": "stdout",
     "output_type": "stream",
     "text": [
      "['i', 'me', 'my', 'myself', 'we', 'our', 'ours', 'ourselves', 'you', \"you're\", \"you've\", \"you'll\", \"you'd\", 'your', 'yours', 'yourself', 'yourselves', 'he', 'him', 'his', 'himself', 'she', \"she's\", 'her', 'hers', 'herself', 'it', \"it's\", 'its', 'itself', 'they', 'them', 'their', 'theirs', 'themselves', 'what', 'which', 'who', 'whom', 'this', 'that', \"that'll\", 'these', 'those', 'am', 'is', 'are', 'was', 'were', 'be', 'been', 'being', 'have', 'has', 'had', 'having', 'do', 'does', 'did', 'doing', 'a', 'an', 'the', 'and', 'but', 'if', 'or', 'because', 'as', 'until', 'while', 'of', 'at', 'by', 'for', 'with', 'about', 'against', 'between', 'into', 'through', 'during', 'before', 'after', 'above', 'below', 'to', 'from', 'up', 'down', 'in', 'out', 'on', 'off', 'over', 'under', 'again', 'further', 'then', 'once', 'here', 'there', 'when', 'where', 'why', 'how', 'all', 'any', 'both', 'each', 'few', 'more', 'most', 'other', 'some', 'such', 'no', 'nor', 'not', 'only', 'own', 'same', 'so', 'than', 'too', 'very', 's', 't', 'can', 'will', 'just', 'don', \"don't\", 'should', \"should've\", 'now', 'd', 'll', 'm', 'o', 're', 've', 'y', 'ain', 'aren', \"aren't\", 'couldn', \"couldn't\", 'didn', \"didn't\", 'doesn', \"doesn't\", 'hadn', \"hadn't\", 'hasn', \"hasn't\", 'haven', \"haven't\", 'isn', \"isn't\", 'ma', 'mightn', \"mightn't\", 'mustn', \"mustn't\", 'needn', \"needn't\", 'shan', \"shan't\", 'shouldn', \"shouldn't\", 'wasn', \"wasn't\", 'weren', \"weren't\", 'won', \"won't\", 'wouldn', \"wouldn't\"]\n"
     ]
    }
   ],
   "source": [
    "print(stop_words)"
   ]
  },
  {
   "cell_type": "code",
   "execution_count": 54,
   "id": "8aeb8ba9-c364-4c11-b050-27a7d6d3ae8b",
   "metadata": {},
   "outputs": [],
   "source": [
    "TrainData['removedstops'] = TrainData['new_column'].apply(lambda x: ' '.join([word for word in x.split() if word not in (stop_words)]))"
   ]
  },
  {
   "cell_type": "code",
   "execution_count": 57,
   "id": "faa3d907-1adb-4fb4-a6c0-aec1fafaf776",
   "metadata": {},
   "outputs": [
    {
     "data": {
      "text/plain": [
       "0        stuff going moment mj ive started listening mu...\n",
       "1        classic war worlds timothy hines entertaining ...\n",
       "2        film starts manager nicholas bell giving welco...\n",
       "3        must assumed praised film greatest filmed oper...\n",
       "4        superbly trashy wondrously unpretentious 80s e...\n",
       "                               ...                        \n",
       "24995    seems like consideration gone imdb reviews fil...\n",
       "24996    dont believe made film completely unnecessary ...\n",
       "24997    guy loser cant get girls needs build picked st...\n",
       "24998    30 minute documentary buñuel made early 1930s ...\n",
       "24999    saw movie child broke heart story unfinished e...\n",
       "Name: removedstops, Length: 25000, dtype: object"
      ]
     },
     "execution_count": 57,
     "metadata": {},
     "output_type": "execute_result"
    }
   ],
   "source": [
    "#new column with removed stop words\n",
    "TrainData['removedstops']"
   ]
  },
  {
   "cell_type": "code",
   "execution_count": 58,
   "id": "89b9b901-252a-4a4a-b6fb-6621179e3884",
   "metadata": {},
   "outputs": [],
   "source": [
    "from nltk.stem.porter import PorterStemmer"
   ]
  },
  {
   "cell_type": "code",
   "execution_count": 64,
   "id": "215d1eaf-35fe-431f-8771-4dad616197ab",
   "metadata": {},
   "outputs": [],
   "source": [
    "porter = PorterStemmer()"
   ]
  },
  {
   "cell_type": "code",
   "execution_count": 65,
   "id": "ab0e5c53-3ea7-411c-aa7f-ee4c81617c9e",
   "metadata": {},
   "outputs": [],
   "source": [
    "def stem_sentences(sentence):\n",
    "    tokens = sentence.split()\n",
    "    stemmed_tokens = [porter.stem(token) for token in tokens]\n",
    "    return ' '.join(stemmed_tokens)"
   ]
  },
  {
   "cell_type": "code",
   "execution_count": 66,
   "id": "ee9daa4a-b5f4-4607-84c6-90eab70b6519",
   "metadata": {},
   "outputs": [],
   "source": [
    "TrainData['StemPort'] = TrainData['removedstops'].apply(stem_sentences)"
   ]
  },
  {
   "cell_type": "code",
   "execution_count": 68,
   "id": "a54d2a9c-44ca-4437-8b11-5e877b14e13e",
   "metadata": {},
   "outputs": [
    {
     "data": {
      "text/plain": [
       "0        stuff go moment mj ive start listen music watc...\n",
       "1        classic war world timothi hine entertain film ...\n",
       "2        film start manag nichola bell give welcom inve...\n",
       "3        must assum prais film greatest film opera ever...\n",
       "4        superbl trashi wondrous unpretenti 80 exploit ...\n",
       "                               ...                        \n",
       "24995    seem like consider gone imdb review film went ...\n",
       "24996    dont believ made film complet unnecessari firs...\n",
       "24997    guy loser cant get girl need build pick strong...\n",
       "24998    30 minut documentari buñuel made earli 1930 on...\n",
       "24999    saw movi child broke heart stori unfinish end ...\n",
       "Name: StemPort, Length: 25000, dtype: object"
      ]
     },
     "execution_count": 68,
     "metadata": {},
     "output_type": "execute_result"
    }
   ],
   "source": [
    "#stemmed data set\n",
    "TrainData['StemPort']"
   ]
  },
  {
   "cell_type": "code",
   "execution_count": 70,
   "id": "76aac496-c318-4fa7-b3a6-c0105f71315e",
   "metadata": {},
   "outputs": [],
   "source": [
    "import numpy as np\n",
    "from sklearn.feature_extraction.text import CountVectorizer"
   ]
  },
  {
   "cell_type": "code",
   "execution_count": 71,
   "id": "6648198b-bce5-4169-84e9-b54f9c336cab",
   "metadata": {},
   "outputs": [],
   "source": [
    "count = CountVectorizer()"
   ]
  },
  {
   "cell_type": "code",
   "execution_count": 74,
   "id": "e678c23c-0447-417b-abd9-bf7c14decc20",
   "metadata": {},
   "outputs": [],
   "source": [
    "bag_of_words = count.fit_transform(TrainData['StemPort'])"
   ]
  },
  {
   "cell_type": "code",
   "execution_count": 75,
   "id": "087c412a-b6cd-4136-90c9-6b72017dc727",
   "metadata": {},
   "outputs": [
    {
     "data": {
      "text/plain": [
       "<25000x92532 sparse matrix of type '<class 'numpy.int64'>'\n",
       "\twith 2439335 stored elements in Compressed Sparse Row format>"
      ]
     },
     "execution_count": 75,
     "metadata": {},
     "output_type": "execute_result"
    }
   ],
   "source": [
    "bag_of_words"
   ]
  },
  {
   "cell_type": "code",
   "execution_count": 76,
   "id": "7c60bc69-b9ca-440d-ae1a-bc08c007d630",
   "metadata": {},
   "outputs": [],
   "source": [
    "#the bag of words shows 25000 rows which is the same as the original data frame"
   ]
  },
  {
   "cell_type": "code",
   "execution_count": 77,
   "id": "a124ed8c-9643-4526-ad35-feb6cb65893a",
   "metadata": {},
   "outputs": [],
   "source": [
    "from sklearn.feature_extraction.text import TfidfVectorizer"
   ]
  },
  {
   "cell_type": "code",
   "execution_count": 78,
   "id": "5f263ad0-d4ad-4b5c-88cc-df7e6d86edbd",
   "metadata": {},
   "outputs": [],
   "source": [
    "tfidf = TfidfVectorizer()"
   ]
  },
  {
   "cell_type": "code",
   "execution_count": 81,
   "id": "641a93ab-cc15-4783-908d-1c64bcd90cba",
   "metadata": {},
   "outputs": [],
   "source": [
    "feature_matrix = tfidf.fit_transform(TrainData['StemPort'])"
   ]
  },
  {
   "cell_type": "code",
   "execution_count": 82,
   "id": "fee41edf-b583-4358-aa5c-a145d90507b9",
   "metadata": {},
   "outputs": [
    {
     "data": {
      "text/plain": [
       "<25000x92532 sparse matrix of type '<class 'numpy.float64'>'\n",
       "\twith 2439335 stored elements in Compressed Sparse Row format>"
      ]
     },
     "execution_count": 82,
     "metadata": {},
     "output_type": "execute_result"
    }
   ],
   "source": [
    "feature_matrix"
   ]
  },
  {
   "cell_type": "code",
   "execution_count": 83,
   "id": "1af1ba9b-7d4b-44ee-9cd4-916a8d63d96c",
   "metadata": {},
   "outputs": [],
   "source": [
    "#feature matrix shows the same number of rows"
   ]
  },
  {
   "cell_type": "code",
   "execution_count": null,
   "id": "ad65109b-0d97-4aa8-84d3-f8d507813e1a",
   "metadata": {},
   "outputs": [],
   "source": []
  }
 ],
 "metadata": {
  "kernelspec": {
   "display_name": "Python 3 (ipykernel)",
   "language": "python",
   "name": "python3"
  },
  "language_info": {
   "codemirror_mode": {
    "name": "ipython",
    "version": 3
   },
   "file_extension": ".py",
   "mimetype": "text/x-python",
   "name": "python",
   "nbconvert_exporter": "python",
   "pygments_lexer": "ipython3",
   "version": "3.9.12"
  }
 },
 "nbformat": 4,
 "nbformat_minor": 5
}
